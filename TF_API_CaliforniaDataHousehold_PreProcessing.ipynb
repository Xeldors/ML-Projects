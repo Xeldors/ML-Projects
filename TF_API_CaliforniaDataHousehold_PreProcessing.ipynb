{
 "cells": [
  {
   "cell_type": "code",
   "execution_count": 1,
   "id": "cee177d0",
   "metadata": {},
   "outputs": [],
   "source": [
    "#######TF API\n",
    "# Shuffling datasets and randomizing Cali Data\n",
    "import tensorflow as tf \n",
    "import pandas as pd"
   ]
  },
  {
   "cell_type": "code",
   "execution_count": 2,
   "id": "8ff7c82e",
   "metadata": {},
   "outputs": [],
   "source": [
    "#Uploading California Mortgage data \n",
    "from sklearn.datasets import fetch_california_housing\n",
    "housing=fetch_california_housing()\n",
    "# print(housing)"
   ]
  },
  {
   "cell_type": "code",
   "execution_count": 3,
   "id": "2591665c",
   "metadata": {},
   "outputs": [],
   "source": [
    "#No labels \n",
    "housing_d=housing[\"data\"]\n",
    "#Storing the labels\n",
    "housing_L=housing[\"target\"]\n",
    "housing_feature_names=housing[\"feature_names\"]\n",
    "\n",
    "#Converting into dataframe\n",
    "housing_df=pd.DataFrame(housing_d,columns=housing_feature_names)\n"
   ]
  },
  {
   "cell_type": "code",
   "execution_count": 4,
   "id": "fefa9991",
   "metadata": {},
   "outputs": [],
   "source": [
    "#To tensor\n",
    "# Convert the data to TensorFlow tensors\n",
    "features_tf = tf.constant(housing_L, dtype=tf.float32)\n",
    "labels_tf = tf.constant(housing_d, dtype=tf.float32)\n",
    "\n",
    "# Combine the features and labels into a TensorFlow dataset\n",
    "housing_tf_dataset = tf.data.Dataset.from_tensor_slices((features_tf))"
   ]
  },
  {
   "cell_type": "code",
   "execution_count": 5,
   "id": "ceafbcac",
   "metadata": {},
   "outputs": [],
   "source": [
    "###Creating Multiple datasets for training and validation and saving them as CSV\n",
    "import sklearn as sk\n",
    "from sklearn.model_selection import train_test_split\n",
    "import os\n",
    "directory=\"C:/Users/sergi/Documents/Py/\"\n",
    "os.chdir(directory)\n",
    "\n",
    "train_filepaths=[]\n",
    "validation_filepaths=[]\n",
    "testing_filepaths=[]\n",
    "for i in range(1,20):\n",
    "    housing_df_shuffled = housing_df.sample(frac=1).reset_index(drop=True)\n",
    "    X_train, X_temp, y_train, y_temp = train_test_split(housing_df_shuffled, housing_L, test_size=0.2)\n",
    "    X_valid, X_test, y_valid, y_test = train_test_split(X_temp, y_temp, test_size=0.5)\n",
    "    train = pd.DataFrame(X_train, columns=housing_feature_names)\n",
    "    train[\"MedHouseValue\"] = y_train\n",
    "    test = pd.DataFrame(X_test, columns=housing_feature_names)\n",
    "    test[\"MedHouseValue\"] = y_test\n",
    "    val = pd.DataFrame(X_valid, columns=housing_feature_names)\n",
    "    val[\"MedHouseValue\"] = y_valid\n",
    "    trainpath=str(directory)+\"/calidata/training\"+str(i)+\".csv\"\n",
    "    valpath=str(directory)+\"/calidata/validation\"+str(i)+\".csv\"\n",
    "    testingpath=str(directory)+\"/calidata/testing\"+str(i)+\".csv\"\n",
    "    train.to_csv(trainpath, index=False)\n",
    "    val.to_csv(valpath, index=False)\n",
    "    test.to_csv(testingpath, index=False)\n",
    "    train_filepaths.append(trainpath)\n",
    "    testing_filepaths.append(testingpath)\n",
    "    validation_filepaths.append(valpath)\n",
    "# print(train_filepaths)\n",
    "    "
   ]
  },
  {
   "cell_type": "code",
   "execution_count": 6,
   "id": "58a8a7bf",
   "metadata": {},
   "outputs": [
    {
     "name": "stdout",
     "output_type": "stream",
     "text": [
      "tf.Tensor(b'C:\\\\Users\\\\sergi\\\\Documents\\\\Py\\\\\\\\calidata\\\\training7.csv', shape=(), dtype=string)\n",
      "tf.Tensor(b'C:\\\\Users\\\\sergi\\\\Documents\\\\Py\\\\\\\\calidata\\\\training9.csv', shape=(), dtype=string)\n",
      "tf.Tensor(b'C:\\\\Users\\\\sergi\\\\Documents\\\\Py\\\\\\\\calidata\\\\training10.csv', shape=(), dtype=string)\n",
      "tf.Tensor(b'C:\\\\Users\\\\sergi\\\\Documents\\\\Py\\\\\\\\calidata\\\\training2.csv', shape=(), dtype=string)\n",
      "tf.Tensor(b'C:\\\\Users\\\\sergi\\\\Documents\\\\Py\\\\\\\\calidata\\\\training16.csv', shape=(), dtype=string)\n",
      "tf.Tensor(b'C:\\\\Users\\\\sergi\\\\Documents\\\\Py\\\\\\\\calidata\\\\training12.csv', shape=(), dtype=string)\n",
      "tf.Tensor(b'C:\\\\Users\\\\sergi\\\\Documents\\\\Py\\\\\\\\calidata\\\\training4.csv', shape=(), dtype=string)\n",
      "tf.Tensor(b'C:\\\\Users\\\\sergi\\\\Documents\\\\Py\\\\\\\\calidata\\\\training8.csv', shape=(), dtype=string)\n",
      "tf.Tensor(b'C:\\\\Users\\\\sergi\\\\Documents\\\\Py\\\\\\\\calidata\\\\training1.csv', shape=(), dtype=string)\n",
      "tf.Tensor(b'C:\\\\Users\\\\sergi\\\\Documents\\\\Py\\\\\\\\calidata\\\\training5.csv', shape=(), dtype=string)\n",
      "tf.Tensor(b'C:\\\\Users\\\\sergi\\\\Documents\\\\Py\\\\\\\\calidata\\\\training6.csv', shape=(), dtype=string)\n",
      "tf.Tensor(b'C:\\\\Users\\\\sergi\\\\Documents\\\\Py\\\\\\\\calidata\\\\training13.csv', shape=(), dtype=string)\n",
      "tf.Tensor(b'C:\\\\Users\\\\sergi\\\\Documents\\\\Py\\\\\\\\calidata\\\\training19.csv', shape=(), dtype=string)\n",
      "tf.Tensor(b'C:\\\\Users\\\\sergi\\\\Documents\\\\Py\\\\\\\\calidata\\\\training18.csv', shape=(), dtype=string)\n",
      "tf.Tensor(b'C:\\\\Users\\\\sergi\\\\Documents\\\\Py\\\\\\\\calidata\\\\training15.csv', shape=(), dtype=string)\n",
      "tf.Tensor(b'C:\\\\Users\\\\sergi\\\\Documents\\\\Py\\\\\\\\calidata\\\\training3.csv', shape=(), dtype=string)\n",
      "tf.Tensor(b'C:\\\\Users\\\\sergi\\\\Documents\\\\Py\\\\\\\\calidata\\\\training14.csv', shape=(), dtype=string)\n",
      "tf.Tensor(b'C:\\\\Users\\\\sergi\\\\Documents\\\\Py\\\\\\\\calidata\\\\training17.csv', shape=(), dtype=string)\n",
      "tf.Tensor(b'C:\\\\Users\\\\sergi\\\\Documents\\\\Py\\\\\\\\calidata\\\\training11.csv', shape=(), dtype=string)\n"
     ]
    }
   ],
   "source": [
    "###Create a dataset that only contains training sets paths\n",
    "filepath_dataset=tf.data.Dataset.list_files(train_filepaths, seed=42) ##This will return a dataset with shuffled datapaths\n",
    "for i in filepath_dataset: \n",
    "    print(i) "
   ]
  },
  {
   "cell_type": "code",
   "execution_count": 7,
   "id": "3da818a1",
   "metadata": {},
   "outputs": [],
   "source": [
    "##interleave: This is a function from tf API that reads from X files of the File_path_dataset at a time and interlines the lines\n",
    "n_readers=5 #nr of files read at a time\n",
    "dataset= filepath_dataset.interleave(lambda filepath: tf.data.TextLineDataset(filepath).skip(1), cycle_length=n_readers) \n",
    "#we are loading 5 random dataset at the same time, skippin the first row in all of them.\n",
    "#If we ask to print this, it will show the first the first line of each of the 5 datasets, and will keeep on doing that until the end of the datasets \n",
    "#It is optimal to have datasets of the same length \n",
    "## Being specific. For each of the 5 datasets it will pull the lamna duntion at a time. It is secuential uless we specify the num_parallel_calls  -- This argument makes possible parallel reading\n"
   ]
  },
  {
   "cell_type": "code",
   "execution_count": 8,
   "id": "fa9e6a4a",
   "metadata": {},
   "outputs": [],
   "source": [
    "##interleave with parallel reading\n",
    "dataset= filepath_dataset.interleave(lambda filepath: tf.data.TextLineDataset(filepath).skip(1), cycle_length=n_readers,num_parallel_calls=5 ) \n"
   ]
  },
  {
   "cell_type": "code",
   "execution_count": 9,
   "id": "edb861a8",
   "metadata": {},
   "outputs": [
    {
     "name": "stdout",
     "output_type": "stream",
     "text": [
      "tf.Tensor(b'3.6995,38.0,5.288503253796096,0.9587852494577006,1308.0,2.8373101952277655,34.1,-118.06,3.429', shape=(), dtype=string)\n",
      "tf.Tensor(b'2.1806,20.0,2.6335540838852096,1.0022075055187638,1880.0,4.150110375275938,34.04,-118.28,2.788', shape=(), dtype=string)\n",
      "tf.Tensor(b'3.07,15.0,5.385624344176286,0.9758656873032528,4591.0,2.408709338929696,39.76,-121.89,2.213', shape=(), dtype=string)\n",
      "tf.Tensor(b'3.6523,28.0,5.551546391752577,1.0618556701030928,2086.0,2.6881443298969074,38.02,-122.1,0.867', shape=(), dtype=string)\n",
      "tf.Tensor(b'5.1696,52.0,6.115902964959568,1.0242587601078168,1004.0,2.706199460916442,37.89,-122.29,0.375', shape=(), dtype=string)\n"
     ]
    }
   ],
   "source": [
    "##Exanining the interleaved dataset \n",
    "for i in dataset.take(5): \n",
    "    print(i)\n",
    "##showing the first line of the first 5 datasets "
   ]
  },
  {
   "cell_type": "code",
   "execution_count": 10,
   "id": "3551d607",
   "metadata": {},
   "outputs": [],
   "source": [
    "import numpy as np\n",
    "##Computing the SD and mean of each of the training sets features \n",
    "X_mean=[]\n",
    "X_std=[]\n",
    "\n",
    "for i in train_filepaths:\n",
    "    mean=[]\n",
    "    std=[]\n",
    "    X= pd.read_csv(str(i))\n",
    "    for j in X:\n",
    "        mean.append(np.mean(X[j]))\n",
    "        std.append(np.std(X[j]))\n",
    "    X_mean.append(mean)\n",
    "    X_std.append(std)\n",
    "\n",
    "X_mean=pd.DataFrame(X_mean)[range(0,8)] # we are deselecting the output\n",
    "X_std=pd.DataFrame(X_std)[range(0,8)] # we are deselecting the output\n",
    "\n",
    "X_mean=tf.convert_to_tensor([np.mean(X_mean[i]) for i in X_mean],dtype=tf.float32) ## Converting into tensor\n",
    "X_std=tf.constant([np.mean(X_std[i]) for i in X_std],dtype=tf.float32) ##Converting into tensor , both functions work the same"
   ]
  },
  {
   "cell_type": "code",
   "execution_count": 11,
   "id": "8ab8b338",
   "metadata": {},
   "outputs": [
    {
     "data": {
      "text/plain": [
       "(<tf.Tensor: shape=(8,), dtype=float32, numpy=\n",
       " array([ 1.1891571 , -1.0038002 , -0.57199955, -0.61822224, -1.2149907 ,\n",
       "        -0.12796491,  1.0883933 , -1.4608583 ], dtype=float32)>,\n",
       " <tf.Tensor: shape=(1,), dtype=float32, numpy=array([2.369], dtype=float32)>)"
      ]
     },
     "execution_count": 11,
     "metadata": {},
     "output_type": "execute_result"
    }
   ],
   "source": [
    "#From Byte string tensor to a standardise float tensor for every line of the interleave dataset\n",
    "input_features_number= len(X_mean) # The number of features in the california housing dataset minust the target\n",
    "\n",
    "#Transfrtomning into a float tensor\n",
    "\n",
    "def parse_csv_line(line):\n",
    "    defs = [0.] * input_features_number + [0.]  # Default values\n",
    "    fields = tf.io.decode_csv(line, record_defaults=defs)\n",
    "    features = tf.stack(fields[:-1])## input variables are all but the last element\n",
    "    label = tf.stack(fields[-1:])## y variable is in the last element of the row\n",
    "    return features, label\n",
    "\n",
    "def preprocess(line):\n",
    "    x, y = parse_csv_line(line)\n",
    "    x = (x - X_mean) / X_std  # Normalize features\n",
    "    return x, y\n",
    "\n",
    "def preprocess_out(line):\n",
    "    x, y = parse_csv_line(line)\n",
    "    return y\n",
    "\n",
    "##testing this \n",
    "\n",
    "preprocess(b'6.1359,16.0,4.0,0.8,45.0,1.8,37.96,-122.5,2.369')"
   ]
  },
  {
   "cell_type": "code",
   "execution_count": 12,
   "id": "32264d83",
   "metadata": {},
   "outputs": [],
   "source": [
    "## Loading random data and converting into tebsor float-- Putting everything together. \n",
    "# This final step will give us a standardised, preprocessed X training data where each row of input features is a float 32byte tensor\n",
    "# This will be a general function that loads multiple csv files from california datset, preprocess them, shuffles them and batch them\n",
    "# Prefetch is important because it tells the  training algoriths that while is performing a batch training, to go one step ahead and retrieve the data for the next batch\n",
    "# Prefetch increases performance dramatically\n",
    "\n",
    "def csv_reader_dataset(filepaths, n_readers=5, n_parse_threads=5, shuffle_buffer_size=10_000, seed=42, batch_size=30):\n",
    "    dataset = tf.data.Dataset.list_files(filepaths, seed=seed)\n",
    "    dataset = dataset.interleave(lambda filepath: tf.data.TextLineDataset(filepath).skip(1), cycle_length=n_readers, num_parallel_calls=n_parse_threads)\n",
    "    dataset = dataset.map(preprocess, num_parallel_calls=n_parse_threads)\n",
    "    dataset = dataset.shuffle(shuffle_buffer_size, seed=seed)\n",
    "    dataset = dataset.batch(batch_size)\n",
    "    dataset = dataset.prefetch(tf.data.AUTOTUNE)  # Use AUTOTUNE for prefetching\n",
    "    return dataset\n",
    "\n"
   ]
  },
  {
   "cell_type": "code",
   "execution_count": 13,
   "id": "1b5afee9",
   "metadata": {},
   "outputs": [],
   "source": [
    "#Preprocessing data for validation, training and testing sets\n",
    "train_set=csv_reader_dataset(train_filepaths)\n",
    "test_set=csv_reader_dataset(testing_filepaths)\n",
    "valid_set=csv_reader_dataset(validation_filepaths)"
   ]
  },
  {
   "cell_type": "code",
   "execution_count": 14,
   "id": "58a21633",
   "metadata": {
    "scrolled": true
   },
   "outputs": [
    {
     "name": "stdout",
     "output_type": "stream",
     "text": [
      "Epoch 1/10\n",
      "  10409/Unknown \u001b[1m7s\u001b[0m 593us/step - loss: 1.4827"
     ]
    },
    {
     "name": "stderr",
     "output_type": "stream",
     "text": [
      "C:\\Users\\sergi\\anaconda3\\Lib\\contextlib.py:155: UserWarning: Your input ran out of data; interrupting training. Make sure that your dataset or generator can generate at least `steps_per_epoch * epochs` batches. You may need to use the `.repeat()` function when building your dataset.\n",
      "  self.gen.throw(typ, value, traceback)\n"
     ]
    },
    {
     "name": "stdout",
     "output_type": "stream",
     "text": [
      "\u001b[1m10458/10458\u001b[0m \u001b[32m━━━━━━━━━━━━━━━━━━━━\u001b[0m\u001b[37m\u001b[0m \u001b[1m8s\u001b[0m 665us/step - loss: 1.4822 - val_loss: 1.3556\n",
      "Epoch 2/10\n",
      "\u001b[1m10458/10458\u001b[0m \u001b[32m━━━━━━━━━━━━━━━━━━━━\u001b[0m\u001b[37m\u001b[0m \u001b[1m7s\u001b[0m 700us/step - loss: 1.3383 - val_loss: 1.3509\n",
      "Epoch 3/10\n",
      "\u001b[1m10458/10458\u001b[0m \u001b[32m━━━━━━━━━━━━━━━━━━━━\u001b[0m\u001b[37m\u001b[0m \u001b[1m10s\u001b[0m 955us/step - loss: 1.3365 - val_loss: 1.3515\n",
      "Epoch 4/10\n",
      "\u001b[1m10458/10458\u001b[0m \u001b[32m━━━━━━━━━━━━━━━━━━━━\u001b[0m\u001b[37m\u001b[0m \u001b[1m11s\u001b[0m 1ms/step - loss: 1.3329 - val_loss: 1.3531\n",
      "Epoch 5/10\n",
      "\u001b[1m10458/10458\u001b[0m \u001b[32m━━━━━━━━━━━━━━━━━━━━\u001b[0m\u001b[37m\u001b[0m \u001b[1m11s\u001b[0m 999us/step - loss: 1.3313 - val_loss: 1.3486\n",
      "Epoch 6/10\n",
      "\u001b[1m10458/10458\u001b[0m \u001b[32m━━━━━━━━━━━━━━━━━━━━\u001b[0m\u001b[37m\u001b[0m \u001b[1m11s\u001b[0m 1ms/step - loss: 1.3332 - val_loss: 1.3486\n",
      "Epoch 7/10\n",
      "\u001b[1m10458/10458\u001b[0m \u001b[32m━━━━━━━━━━━━━━━━━━━━\u001b[0m\u001b[37m\u001b[0m \u001b[1m11s\u001b[0m 1ms/step - loss: 1.3342 - val_loss: 1.3484\n",
      "Epoch 8/10\n",
      "\u001b[1m10458/10458\u001b[0m \u001b[32m━━━━━━━━━━━━━━━━━━━━\u001b[0m\u001b[37m\u001b[0m \u001b[1m11s\u001b[0m 1ms/step - loss: 1.3362 - val_loss: 1.3488\n",
      "Epoch 9/10\n",
      "\u001b[1m10458/10458\u001b[0m \u001b[32m━━━━━━━━━━━━━━━━━━━━\u001b[0m\u001b[37m\u001b[0m \u001b[1m11s\u001b[0m 1ms/step - loss: 1.3334 - val_loss: 1.3492\n",
      "Epoch 10/10\n",
      "\u001b[1m10458/10458\u001b[0m \u001b[32m━━━━━━━━━━━━━━━━━━━━\u001b[0m\u001b[37m\u001b[0m \u001b[1m12s\u001b[0m 1ms/step - loss: 1.3343 - val_loss: 1.3484\n",
      "\u001b[1m1308/1308\u001b[0m \u001b[32m━━━━━━━━━━━━━━━━━━━━\u001b[0m\u001b[37m\u001b[0m \u001b[1m1s\u001b[0m 688us/step - loss: 1.3206\n",
      "Test MSE: 1.3278415203094482\n"
     ]
    }
   ],
   "source": [
    "## Model fitting: Keras\n",
    "# Define the model\n",
    "model = tf.keras.models.Sequential([\n",
    "    tf.keras.layers.Dense(30, activation=\"relu\"),\n",
    "    tf.keras.layers.Dense(30, activation=\"relu\"),\n",
    "\n",
    "    tf.keras.layers.Dense(1)  # Output layer\n",
    "])\n",
    "\n",
    "# Compile the model\n",
    "model.compile(loss=\"mse\", optimizer=\"nadam\")\n",
    "\n",
    "# Fit the model on the training dataset\n",
    "history = model.fit(train_set,  # The training dataset\n",
    "                    validation_data=valid_set,  # Validation dataset\n",
    "                    epochs=10)  # Number of epochs\n",
    "\n",
    "# Evaluate the model on the test dataset\n",
    "test_mse = model.evaluate(test_set)  # Test dataset\n",
    "print(\"Test MSE:\", test_mse)"
   ]
  },
  {
   "cell_type": "code",
   "execution_count": 15,
   "id": "e01e1f8d",
   "metadata": {},
   "outputs": [
    {
     "data": {
      "text/html": [
       "<pre style=\"white-space:pre;overflow-x:auto;line-height:normal;font-family:Menlo,'DejaVu Sans Mono',consolas,'Courier New',monospace\"><span style=\"font-weight: bold\">Model: \"sequential\"</span>\n",
       "</pre>\n"
      ],
      "text/plain": [
       "\u001b[1mModel: \"sequential\"\u001b[0m\n"
      ]
     },
     "metadata": {},
     "output_type": "display_data"
    },
    {
     "data": {
      "text/html": [
       "<pre style=\"white-space:pre;overflow-x:auto;line-height:normal;font-family:Menlo,'DejaVu Sans Mono',consolas,'Courier New',monospace\">┏━━━━━━━━━━━━━━━━━━━━━━━━━━━━━━━━━━━━━━┳━━━━━━━━━━━━━━━━━━━━━━━━━━━━━┳━━━━━━━━━━━━━━━━━┓\n",
       "┃<span style=\"font-weight: bold\"> Layer (type)                         </span>┃<span style=\"font-weight: bold\"> Output Shape                </span>┃<span style=\"font-weight: bold\">         Param # </span>┃\n",
       "┡━━━━━━━━━━━━━━━━━━━━━━━━━━━━━━━━━━━━━━╇━━━━━━━━━━━━━━━━━━━━━━━━━━━━━╇━━━━━━━━━━━━━━━━━┩\n",
       "│ dense (<span style=\"color: #0087ff; text-decoration-color: #0087ff\">Dense</span>)                        │ (<span style=\"color: #00d7ff; text-decoration-color: #00d7ff\">None</span>, <span style=\"color: #00af00; text-decoration-color: #00af00\">30</span>)                  │             <span style=\"color: #00af00; text-decoration-color: #00af00\">270</span> │\n",
       "├──────────────────────────────────────┼─────────────────────────────┼─────────────────┤\n",
       "│ dense_1 (<span style=\"color: #0087ff; text-decoration-color: #0087ff\">Dense</span>)                      │ (<span style=\"color: #00d7ff; text-decoration-color: #00d7ff\">None</span>, <span style=\"color: #00af00; text-decoration-color: #00af00\">30</span>)                  │             <span style=\"color: #00af00; text-decoration-color: #00af00\">930</span> │\n",
       "├──────────────────────────────────────┼─────────────────────────────┼─────────────────┤\n",
       "│ dense_2 (<span style=\"color: #0087ff; text-decoration-color: #0087ff\">Dense</span>)                      │ (<span style=\"color: #00d7ff; text-decoration-color: #00d7ff\">None</span>, <span style=\"color: #00af00; text-decoration-color: #00af00\">1</span>)                   │              <span style=\"color: #00af00; text-decoration-color: #00af00\">31</span> │\n",
       "└──────────────────────────────────────┴─────────────────────────────┴─────────────────┘\n",
       "</pre>\n"
      ],
      "text/plain": [
       "┏━━━━━━━━━━━━━━━━━━━━━━━━━━━━━━━━━━━━━━┳━━━━━━━━━━━━━━━━━━━━━━━━━━━━━┳━━━━━━━━━━━━━━━━━┓\n",
       "┃\u001b[1m \u001b[0m\u001b[1mLayer (type)                        \u001b[0m\u001b[1m \u001b[0m┃\u001b[1m \u001b[0m\u001b[1mOutput Shape               \u001b[0m\u001b[1m \u001b[0m┃\u001b[1m \u001b[0m\u001b[1m        Param #\u001b[0m\u001b[1m \u001b[0m┃\n",
       "┡━━━━━━━━━━━━━━━━━━━━━━━━━━━━━━━━━━━━━━╇━━━━━━━━━━━━━━━━━━━━━━━━━━━━━╇━━━━━━━━━━━━━━━━━┩\n",
       "│ dense (\u001b[38;5;33mDense\u001b[0m)                        │ (\u001b[38;5;45mNone\u001b[0m, \u001b[38;5;34m30\u001b[0m)                  │             \u001b[38;5;34m270\u001b[0m │\n",
       "├──────────────────────────────────────┼─────────────────────────────┼─────────────────┤\n",
       "│ dense_1 (\u001b[38;5;33mDense\u001b[0m)                      │ (\u001b[38;5;45mNone\u001b[0m, \u001b[38;5;34m30\u001b[0m)                  │             \u001b[38;5;34m930\u001b[0m │\n",
       "├──────────────────────────────────────┼─────────────────────────────┼─────────────────┤\n",
       "│ dense_2 (\u001b[38;5;33mDense\u001b[0m)                      │ (\u001b[38;5;45mNone\u001b[0m, \u001b[38;5;34m1\u001b[0m)                   │              \u001b[38;5;34m31\u001b[0m │\n",
       "└──────────────────────────────────────┴─────────────────────────────┴─────────────────┘\n"
      ]
     },
     "metadata": {},
     "output_type": "display_data"
    },
    {
     "data": {
      "text/html": [
       "<pre style=\"white-space:pre;overflow-x:auto;line-height:normal;font-family:Menlo,'DejaVu Sans Mono',consolas,'Courier New',monospace\"><span style=\"font-weight: bold\"> Total params: </span><span style=\"color: #00af00; text-decoration-color: #00af00\">3,696</span> (14.44 KB)\n",
       "</pre>\n"
      ],
      "text/plain": [
       "\u001b[1m Total params: \u001b[0m\u001b[38;5;34m3,696\u001b[0m (14.44 KB)\n"
      ]
     },
     "metadata": {},
     "output_type": "display_data"
    },
    {
     "data": {
      "text/html": [
       "<pre style=\"white-space:pre;overflow-x:auto;line-height:normal;font-family:Menlo,'DejaVu Sans Mono',consolas,'Courier New',monospace\"><span style=\"font-weight: bold\"> Trainable params: </span><span style=\"color: #00af00; text-decoration-color: #00af00\">1,231</span> (4.81 KB)\n",
       "</pre>\n"
      ],
      "text/plain": [
       "\u001b[1m Trainable params: \u001b[0m\u001b[38;5;34m1,231\u001b[0m (4.81 KB)\n"
      ]
     },
     "metadata": {},
     "output_type": "display_data"
    },
    {
     "data": {
      "text/html": [
       "<pre style=\"white-space:pre;overflow-x:auto;line-height:normal;font-family:Menlo,'DejaVu Sans Mono',consolas,'Courier New',monospace\"><span style=\"font-weight: bold\"> Non-trainable params: </span><span style=\"color: #00af00; text-decoration-color: #00af00\">0</span> (0.00 B)\n",
       "</pre>\n"
      ],
      "text/plain": [
       "\u001b[1m Non-trainable params: \u001b[0m\u001b[38;5;34m0\u001b[0m (0.00 B)\n"
      ]
     },
     "metadata": {},
     "output_type": "display_data"
    },
    {
     "data": {
      "text/html": [
       "<pre style=\"white-space:pre;overflow-x:auto;line-height:normal;font-family:Menlo,'DejaVu Sans Mono',consolas,'Courier New',monospace\"><span style=\"font-weight: bold\"> Optimizer params: </span><span style=\"color: #00af00; text-decoration-color: #00af00\">2,465</span> (9.63 KB)\n",
       "</pre>\n"
      ],
      "text/plain": [
       "\u001b[1m Optimizer params: \u001b[0m\u001b[38;5;34m2,465\u001b[0m (9.63 KB)\n"
      ]
     },
     "metadata": {},
     "output_type": "display_data"
    }
   ],
   "source": [
    "model.summary()"
   ]
  },
  {
   "cell_type": "code",
   "execution_count": 16,
   "id": "07596d48",
   "metadata": {},
   "outputs": [
    {
     "name": "stdout",
     "output_type": "stream",
     "text": [
      "\u001b[1m10458/10458\u001b[0m \u001b[32m━━━━━━━━━━━━━━━━━━━━\u001b[0m\u001b[37m\u001b[0m \u001b[1m12s\u001b[0m 1ms/step\n"
     ]
    }
   ],
   "source": [
    "predictions = model.predict(train_set)"
   ]
  }
 ],
 "metadata": {
  "kernelspec": {
   "display_name": "Python 3 (ipykernel)",
   "language": "python",
   "name": "python3"
  },
  "language_info": {
   "codemirror_mode": {
    "name": "ipython",
    "version": 3
   },
   "file_extension": ".py",
   "mimetype": "text/x-python",
   "name": "python",
   "nbconvert_exporter": "python",
   "pygments_lexer": "ipython3",
   "version": "3.11.5"
  }
 },
 "nbformat": 4,
 "nbformat_minor": 5
}
