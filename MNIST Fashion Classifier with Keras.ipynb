{
 "cells": [
  {
   "cell_type": "code",
   "execution_count": 1,
   "id": "2118ca2c",
   "metadata": {},
   "outputs": [],
   "source": [
    "import tensorflow as tf"
   ]
  },
  {
   "cell_type": "code",
   "execution_count": 2,
   "id": "cb91b35b",
   "metadata": {},
   "outputs": [],
   "source": [
    "fashion_mnist= tf.keras.datasets.fashion_mnist\n",
    "\n",
    "(x_train, y_train), (x_test, y_test) = fashion_mnist.load_data()\n",
    "(x_train2, y_train2), (x_test2, y_test2) = fashion_mnist.load_data()\n",
    "x_train= x_train/255  ##This is the equivalent of normalising. We are dviding by the max value of pixel intensity\n",
    "x_test= x_test/255\n"
   ]
  },
  {
   "cell_type": "code",
   "execution_count": 3,
   "id": "f8f77a93",
   "metadata": {},
   "outputs": [
    {
     "data": {
      "text/plain": [
       "'Ugly boot'"
      ]
     },
     "execution_count": 3,
     "metadata": {},
     "output_type": "execute_result"
    }
   ],
   "source": [
    "##Create an array with the different names of the clothes\n",
    "class_names=[\"T-shirt\",\"Trouser\",\"Pullover\",\"Dress\",\"Coat\",\"Sandal\",\"Shirt\",\"Sneaker\",\"Bag\",\"Ugly boot\"]\n",
    "class_names[y_train[0]]"
   ]
  },
  {
   "cell_type": "code",
   "execution_count": 4,
   "id": "87764dd1",
   "metadata": {},
   "outputs": [],
   "source": [
    "# input_shape = ((x_train.shape[1]*x_train.shape[2],)) \n",
    "# x_train = x_train.reshape(-1, input_shape[0]).astype('float32') # Reshape transform into vectors an then we transform each of the vector elements into a 32 byte float \n",
    "# x_test = x_test.reshape(-1, input_shape[0]).astype('float32')"
   ]
  },
  {
   "cell_type": "code",
   "execution_count": 5,
   "id": "01341f53",
   "metadata": {},
   "outputs": [],
   "source": [
    "# Create a CNN model\n",
    "# model = tf.keras.Sequential([\n",
    "#     tf.keras.layers.Input(shape=input_shape),  # Input layer\n",
    "#     tf.keras.layers.Dense(layer_1_nodes, activation='relu'),  # Hidden layer with 500 units with relu or sigmoid functions\n",
    "#     tf.keras.layers.Dense(layer_2_nodes, activation='relu'),  # Hidden layer with 500 units with relu or sigmoid functions\n",
    "#     tf.keras.layers.Dense(layer_3_nodes, activation='relu'),  # Hidden layer with 500 units with relu or sigmoid functions\n",
    "#     tf.keras.layers.Dense(output_nodes, activation='softmax')  # Output layer with softmax activation with softmax\n",
    "# ])\n",
    "#Alternative to 1st set of code\n",
    "tf.random.set_seed(42) ##To replicate values\n",
    "model=tf.keras.Sequential()\n",
    "model.add(tf.keras.layers.Input(shape=[x_train.shape[1],x_train.shape[2]]))\n",
    "model.add(tf.keras.layers.Flatten())###Flatten does absolutely the same as reshape but automatically\n",
    "model.add(tf.keras.layers.Dense(300, activation='relu'))\n",
    "model.add(tf.keras.layers.Dense(100, activation='relu'))\n",
    "model.add(tf.keras.layers.Dense(10, activation='softmax'))##10 Because we have 10 classes\n"
   ]
  },
  {
   "cell_type": "code",
   "execution_count": 6,
   "id": "5a607775",
   "metadata": {
    "scrolled": true
   },
   "outputs": [
    {
     "data": {
      "text/html": [
       "<pre style=\"white-space:pre;overflow-x:auto;line-height:normal;font-family:Menlo,'DejaVu Sans Mono',consolas,'Courier New',monospace\"><span style=\"font-weight: bold\">Model: \"sequential\"</span>\n",
       "</pre>\n"
      ],
      "text/plain": [
       "\u001b[1mModel: \"sequential\"\u001b[0m\n"
      ]
     },
     "metadata": {},
     "output_type": "display_data"
    },
    {
     "data": {
      "text/html": [
       "<pre style=\"white-space:pre;overflow-x:auto;line-height:normal;font-family:Menlo,'DejaVu Sans Mono',consolas,'Courier New',monospace\">┏━━━━━━━━━━━━━━━━━━━━━━━━━━━━━━━━━━━━━━┳━━━━━━━━━━━━━━━━━━━━━━━━━━━━━┳━━━━━━━━━━━━━━━━━┓\n",
       "┃<span style=\"font-weight: bold\"> Layer (type)                         </span>┃<span style=\"font-weight: bold\"> Output Shape                </span>┃<span style=\"font-weight: bold\">         Param # </span>┃\n",
       "┡━━━━━━━━━━━━━━━━━━━━━━━━━━━━━━━━━━━━━━╇━━━━━━━━━━━━━━━━━━━━━━━━━━━━━╇━━━━━━━━━━━━━━━━━┩\n",
       "│ flatten (<span style=\"color: #0087ff; text-decoration-color: #0087ff\">Flatten</span>)                    │ (<span style=\"color: #00d7ff; text-decoration-color: #00d7ff\">None</span>, <span style=\"color: #00af00; text-decoration-color: #00af00\">784</span>)                 │               <span style=\"color: #00af00; text-decoration-color: #00af00\">0</span> │\n",
       "├──────────────────────────────────────┼─────────────────────────────┼─────────────────┤\n",
       "│ dense (<span style=\"color: #0087ff; text-decoration-color: #0087ff\">Dense</span>)                        │ (<span style=\"color: #00d7ff; text-decoration-color: #00d7ff\">None</span>, <span style=\"color: #00af00; text-decoration-color: #00af00\">300</span>)                 │         <span style=\"color: #00af00; text-decoration-color: #00af00\">235,500</span> │\n",
       "├──────────────────────────────────────┼─────────────────────────────┼─────────────────┤\n",
       "│ dense_1 (<span style=\"color: #0087ff; text-decoration-color: #0087ff\">Dense</span>)                      │ (<span style=\"color: #00d7ff; text-decoration-color: #00d7ff\">None</span>, <span style=\"color: #00af00; text-decoration-color: #00af00\">100</span>)                 │          <span style=\"color: #00af00; text-decoration-color: #00af00\">30,100</span> │\n",
       "├──────────────────────────────────────┼─────────────────────────────┼─────────────────┤\n",
       "│ dense_2 (<span style=\"color: #0087ff; text-decoration-color: #0087ff\">Dense</span>)                      │ (<span style=\"color: #00d7ff; text-decoration-color: #00d7ff\">None</span>, <span style=\"color: #00af00; text-decoration-color: #00af00\">10</span>)                  │           <span style=\"color: #00af00; text-decoration-color: #00af00\">1,010</span> │\n",
       "└──────────────────────────────────────┴─────────────────────────────┴─────────────────┘\n",
       "</pre>\n"
      ],
      "text/plain": [
       "┏━━━━━━━━━━━━━━━━━━━━━━━━━━━━━━━━━━━━━━┳━━━━━━━━━━━━━━━━━━━━━━━━━━━━━┳━━━━━━━━━━━━━━━━━┓\n",
       "┃\u001b[1m \u001b[0m\u001b[1mLayer (type)                        \u001b[0m\u001b[1m \u001b[0m┃\u001b[1m \u001b[0m\u001b[1mOutput Shape               \u001b[0m\u001b[1m \u001b[0m┃\u001b[1m \u001b[0m\u001b[1m        Param #\u001b[0m\u001b[1m \u001b[0m┃\n",
       "┡━━━━━━━━━━━━━━━━━━━━━━━━━━━━━━━━━━━━━━╇━━━━━━━━━━━━━━━━━━━━━━━━━━━━━╇━━━━━━━━━━━━━━━━━┩\n",
       "│ flatten (\u001b[38;5;33mFlatten\u001b[0m)                    │ (\u001b[38;5;45mNone\u001b[0m, \u001b[38;5;34m784\u001b[0m)                 │               \u001b[38;5;34m0\u001b[0m │\n",
       "├──────────────────────────────────────┼─────────────────────────────┼─────────────────┤\n",
       "│ dense (\u001b[38;5;33mDense\u001b[0m)                        │ (\u001b[38;5;45mNone\u001b[0m, \u001b[38;5;34m300\u001b[0m)                 │         \u001b[38;5;34m235,500\u001b[0m │\n",
       "├──────────────────────────────────────┼─────────────────────────────┼─────────────────┤\n",
       "│ dense_1 (\u001b[38;5;33mDense\u001b[0m)                      │ (\u001b[38;5;45mNone\u001b[0m, \u001b[38;5;34m100\u001b[0m)                 │          \u001b[38;5;34m30,100\u001b[0m │\n",
       "├──────────────────────────────────────┼─────────────────────────────┼─────────────────┤\n",
       "│ dense_2 (\u001b[38;5;33mDense\u001b[0m)                      │ (\u001b[38;5;45mNone\u001b[0m, \u001b[38;5;34m10\u001b[0m)                  │           \u001b[38;5;34m1,010\u001b[0m │\n",
       "└──────────────────────────────────────┴─────────────────────────────┴─────────────────┘\n"
      ]
     },
     "metadata": {},
     "output_type": "display_data"
    },
    {
     "data": {
      "text/html": [
       "<pre style=\"white-space:pre;overflow-x:auto;line-height:normal;font-family:Menlo,'DejaVu Sans Mono',consolas,'Courier New',monospace\"><span style=\"font-weight: bold\"> Total params: </span><span style=\"color: #00af00; text-decoration-color: #00af00\">266,610</span> (1.02 MB)\n",
       "</pre>\n"
      ],
      "text/plain": [
       "\u001b[1m Total params: \u001b[0m\u001b[38;5;34m266,610\u001b[0m (1.02 MB)\n"
      ]
     },
     "metadata": {},
     "output_type": "display_data"
    },
    {
     "data": {
      "text/html": [
       "<pre style=\"white-space:pre;overflow-x:auto;line-height:normal;font-family:Menlo,'DejaVu Sans Mono',consolas,'Courier New',monospace\"><span style=\"font-weight: bold\"> Trainable params: </span><span style=\"color: #00af00; text-decoration-color: #00af00\">266,610</span> (1.02 MB)\n",
       "</pre>\n"
      ],
      "text/plain": [
       "\u001b[1m Trainable params: \u001b[0m\u001b[38;5;34m266,610\u001b[0m (1.02 MB)\n"
      ]
     },
     "metadata": {},
     "output_type": "display_data"
    },
    {
     "data": {
      "text/html": [
       "<pre style=\"white-space:pre;overflow-x:auto;line-height:normal;font-family:Menlo,'DejaVu Sans Mono',consolas,'Courier New',monospace\"><span style=\"font-weight: bold\"> Non-trainable params: </span><span style=\"color: #00af00; text-decoration-color: #00af00\">0</span> (0.00 B)\n",
       "</pre>\n"
      ],
      "text/plain": [
       "\u001b[1m Non-trainable params: \u001b[0m\u001b[38;5;34m0\u001b[0m (0.00 B)\n"
      ]
     },
     "metadata": {},
     "output_type": "display_data"
    }
   ],
   "source": [
    "model.summary()"
   ]
  },
  {
   "cell_type": "code",
   "execution_count": 7,
   "id": "bae345a1",
   "metadata": {},
   "outputs": [
    {
     "data": {
      "text/plain": [
       "[<Flatten name=flatten, built=True>,\n",
       " <Dense name=dense, built=True>,\n",
       " <Dense name=dense_1, built=True>,\n",
       " <Dense name=dense_2, built=True>]"
      ]
     },
     "execution_count": 7,
     "metadata": {},
     "output_type": "execute_result"
    }
   ],
   "source": [
    "###Initial random not compiled yet\n",
    "###Getting each layer\n",
    "hidden_l1=model.layers[1]\n",
    "hidden_l2=model.layers[2]\n",
    "out_l1=model.layers[3]\n",
    "model.layers\n"
   ]
  },
  {
   "cell_type": "code",
   "execution_count": 8,
   "id": "5fc0532b",
   "metadata": {},
   "outputs": [
    {
     "data": {
      "text/plain": [
       "array([[ 0.03486767, -0.04943771, -0.05012258, ..., -0.03047935,\n",
       "        -0.02890559,  0.01677386],\n",
       "       [-0.05893466,  0.06867863, -0.04182006, ..., -0.01856951,\n",
       "        -0.01482454,  0.0309144 ],\n",
       "       [ 0.06358576, -0.06431776, -0.01834342, ...,  0.00027566,\n",
       "         0.04379306,  0.0311043 ],\n",
       "       ...,\n",
       "       [-0.02844637,  0.03405226,  0.00378733, ..., -0.04915958,\n",
       "        -0.05172876,  0.05287547],\n",
       "       [-0.05329042,  0.00711627,  0.07303376, ..., -0.05824684,\n",
       "         0.07141334,  0.01650719],\n",
       "       [-0.04224117,  0.07144582,  0.04596825, ..., -0.05366658,\n",
       "         0.02964707,  0.00675441]], dtype=float32)"
      ]
     },
     "execution_count": 8,
     "metadata": {},
     "output_type": "execute_result"
    }
   ],
   "source": [
    "###Initial random not compiled yet\n",
    "##Getting node and biases weighys\n",
    "weights_l1, biases_l1 = hidden_l1.get_weights()\n",
    "weights_l1\n"
   ]
  },
  {
   "cell_type": "code",
   "execution_count": 9,
   "id": "9cf285b3",
   "metadata": {},
   "outputs": [],
   "source": [
    "# Compile the model\n",
    "\n",
    "\n",
    "model.compile(optimizer=\"sgd\", \n",
    "              loss='sparse_categorical_crossentropy',    ###We use sparse because the output is not one hot encoders but still is a discrete one\n",
    "              metrics=['accuracy'])     \n",
    "\n"
   ]
  },
  {
   "cell_type": "code",
   "execution_count": 10,
   "id": "9c476f80",
   "metadata": {},
   "outputs": [
    {
     "name": "stdout",
     "output_type": "stream",
     "text": [
      "Epoch 1/30\n",
      "\u001b[1m1688/1688\u001b[0m \u001b[32m━━━━━━━━━━━━━━━━━━━━\u001b[0m\u001b[37m\u001b[0m \u001b[1m2s\u001b[0m 1ms/step - accuracy: 0.6827 - loss: 0.9988 - val_accuracy: 0.8147 - val_loss: 0.5333\n",
      "Epoch 2/30\n",
      "\u001b[1m1688/1688\u001b[0m \u001b[32m━━━━━━━━━━━━━━━━━━━━\u001b[0m\u001b[37m\u001b[0m \u001b[1m2s\u001b[0m 1ms/step - accuracy: 0.8284 - loss: 0.5011 - val_accuracy: 0.8345 - val_loss: 0.4694\n",
      "Epoch 3/30\n",
      "\u001b[1m1688/1688\u001b[0m \u001b[32m━━━━━━━━━━━━━━━━━━━━\u001b[0m\u001b[37m\u001b[0m \u001b[1m3s\u001b[0m 2ms/step - accuracy: 0.8455 - loss: 0.4496 - val_accuracy: 0.8473 - val_loss: 0.4372\n",
      "Epoch 4/30\n",
      "\u001b[1m1688/1688\u001b[0m \u001b[32m━━━━━━━━━━━━━━━━━━━━\u001b[0m\u001b[37m\u001b[0m \u001b[1m3s\u001b[0m 2ms/step - accuracy: 0.8555 - loss: 0.4207 - val_accuracy: 0.8558 - val_loss: 0.4137\n",
      "Epoch 5/30\n",
      "\u001b[1m1688/1688\u001b[0m \u001b[32m━━━━━━━━━━━━━━━━━━━━\u001b[0m\u001b[37m\u001b[0m \u001b[1m3s\u001b[0m 2ms/step - accuracy: 0.8617 - loss: 0.3999 - val_accuracy: 0.8603 - val_loss: 0.3970\n",
      "Epoch 6/30\n",
      "\u001b[1m1688/1688\u001b[0m \u001b[32m━━━━━━━━━━━━━━━━━━━━\u001b[0m\u001b[37m\u001b[0m \u001b[1m3s\u001b[0m 2ms/step - accuracy: 0.8674 - loss: 0.3831 - val_accuracy: 0.8630 - val_loss: 0.3842\n",
      "Epoch 7/30\n",
      "\u001b[1m1688/1688\u001b[0m \u001b[32m━━━━━━━━━━━━━━━━━━━━\u001b[0m\u001b[37m\u001b[0m \u001b[1m3s\u001b[0m 2ms/step - accuracy: 0.8714 - loss: 0.3690 - val_accuracy: 0.8672 - val_loss: 0.3773\n",
      "Epoch 8/30\n",
      "\u001b[1m1688/1688\u001b[0m \u001b[32m━━━━━━━━━━━━━━━━━━━━\u001b[0m\u001b[37m\u001b[0m \u001b[1m3s\u001b[0m 2ms/step - accuracy: 0.8753 - loss: 0.3571 - val_accuracy: 0.8720 - val_loss: 0.3678\n",
      "Epoch 9/30\n",
      "\u001b[1m1688/1688\u001b[0m \u001b[32m━━━━━━━━━━━━━━━━━━━━\u001b[0m\u001b[37m\u001b[0m \u001b[1m3s\u001b[0m 2ms/step - accuracy: 0.8790 - loss: 0.3465 - val_accuracy: 0.8727 - val_loss: 0.3614\n",
      "Epoch 10/30\n",
      "\u001b[1m1688/1688\u001b[0m \u001b[32m━━━━━━━━━━━━━━━━━━━━\u001b[0m\u001b[37m\u001b[0m \u001b[1m3s\u001b[0m 2ms/step - accuracy: 0.8817 - loss: 0.3370 - val_accuracy: 0.8730 - val_loss: 0.3550\n",
      "Epoch 11/30\n",
      "\u001b[1m1688/1688\u001b[0m \u001b[32m━━━━━━━━━━━━━━━━━━━━\u001b[0m\u001b[37m\u001b[0m \u001b[1m3s\u001b[0m 2ms/step - accuracy: 0.8842 - loss: 0.3283 - val_accuracy: 0.8742 - val_loss: 0.3507\n",
      "Epoch 12/30\n",
      "\u001b[1m1688/1688\u001b[0m \u001b[32m━━━━━━━━━━━━━━━━━━━━\u001b[0m\u001b[37m\u001b[0m \u001b[1m3s\u001b[0m 2ms/step - accuracy: 0.8871 - loss: 0.3202 - val_accuracy: 0.8755 - val_loss: 0.3458\n",
      "Epoch 13/30\n",
      "\u001b[1m1688/1688\u001b[0m \u001b[32m━━━━━━━━━━━━━━━━━━━━\u001b[0m\u001b[37m\u001b[0m \u001b[1m3s\u001b[0m 2ms/step - accuracy: 0.8895 - loss: 0.3124 - val_accuracy: 0.8767 - val_loss: 0.3415\n",
      "Epoch 14/30\n",
      "\u001b[1m1688/1688\u001b[0m \u001b[32m━━━━━━━━━━━━━━━━━━━━\u001b[0m\u001b[37m\u001b[0m \u001b[1m3s\u001b[0m 2ms/step - accuracy: 0.8917 - loss: 0.3051 - val_accuracy: 0.8767 - val_loss: 0.3383\n",
      "Epoch 15/30\n",
      "\u001b[1m1688/1688\u001b[0m \u001b[32m━━━━━━━━━━━━━━━━━━━━\u001b[0m\u001b[37m\u001b[0m \u001b[1m3s\u001b[0m 2ms/step - accuracy: 0.8940 - loss: 0.2984 - val_accuracy: 0.8782 - val_loss: 0.3348\n",
      "Epoch 16/30\n",
      "\u001b[1m1688/1688\u001b[0m \u001b[32m━━━━━━━━━━━━━━━━━━━━\u001b[0m\u001b[37m\u001b[0m \u001b[1m3s\u001b[0m 2ms/step - accuracy: 0.8954 - loss: 0.2919 - val_accuracy: 0.8803 - val_loss: 0.3317\n",
      "Epoch 17/30\n",
      "\u001b[1m1688/1688\u001b[0m \u001b[32m━━━━━━━━━━━━━━━━━━━━\u001b[0m\u001b[37m\u001b[0m \u001b[1m3s\u001b[0m 2ms/step - accuracy: 0.8975 - loss: 0.2860 - val_accuracy: 0.8818 - val_loss: 0.3292\n",
      "Epoch 18/30\n",
      "\u001b[1m1688/1688\u001b[0m \u001b[32m━━━━━━━━━━━━━━━━━━━━\u001b[0m\u001b[37m\u001b[0m \u001b[1m3s\u001b[0m 2ms/step - accuracy: 0.8997 - loss: 0.2804 - val_accuracy: 0.8835 - val_loss: 0.3277\n",
      "Epoch 19/30\n",
      "\u001b[1m1688/1688\u001b[0m \u001b[32m━━━━━━━━━━━━━━━━━━━━\u001b[0m\u001b[37m\u001b[0m \u001b[1m3s\u001b[0m 2ms/step - accuracy: 0.9018 - loss: 0.2750 - val_accuracy: 0.8847 - val_loss: 0.3254\n",
      "Epoch 20/30\n",
      "\u001b[1m1688/1688\u001b[0m \u001b[32m━━━━━━━━━━━━━━━━━━━━\u001b[0m\u001b[37m\u001b[0m \u001b[1m3s\u001b[0m 2ms/step - accuracy: 0.9039 - loss: 0.2698 - val_accuracy: 0.8833 - val_loss: 0.3236\n",
      "Epoch 21/30\n",
      "\u001b[1m1688/1688\u001b[0m \u001b[32m━━━━━━━━━━━━━━━━━━━━\u001b[0m\u001b[37m\u001b[0m \u001b[1m3s\u001b[0m 2ms/step - accuracy: 0.9063 - loss: 0.2648 - val_accuracy: 0.8843 - val_loss: 0.3225\n",
      "Epoch 22/30\n",
      "\u001b[1m1688/1688\u001b[0m \u001b[32m━━━━━━━━━━━━━━━━━━━━\u001b[0m\u001b[37m\u001b[0m \u001b[1m3s\u001b[0m 2ms/step - accuracy: 0.9076 - loss: 0.2599 - val_accuracy: 0.8840 - val_loss: 0.3215\n",
      "Epoch 23/30\n",
      "\u001b[1m1688/1688\u001b[0m \u001b[32m━━━━━━━━━━━━━━━━━━━━\u001b[0m\u001b[37m\u001b[0m \u001b[1m3s\u001b[0m 2ms/step - accuracy: 0.9101 - loss: 0.2550 - val_accuracy: 0.8843 - val_loss: 0.3199\n",
      "Epoch 24/30\n",
      "\u001b[1m1688/1688\u001b[0m \u001b[32m━━━━━━━━━━━━━━━━━━━━\u001b[0m\u001b[37m\u001b[0m \u001b[1m3s\u001b[0m 2ms/step - accuracy: 0.9123 - loss: 0.2504 - val_accuracy: 0.8840 - val_loss: 0.3194\n",
      "Epoch 25/30\n",
      "\u001b[1m1688/1688\u001b[0m \u001b[32m━━━━━━━━━━━━━━━━━━━━\u001b[0m\u001b[37m\u001b[0m \u001b[1m3s\u001b[0m 2ms/step - accuracy: 0.9140 - loss: 0.2459 - val_accuracy: 0.8847 - val_loss: 0.3184\n",
      "Epoch 26/30\n",
      "\u001b[1m1688/1688\u001b[0m \u001b[32m━━━━━━━━━━━━━━━━━━━━\u001b[0m\u001b[37m\u001b[0m \u001b[1m3s\u001b[0m 2ms/step - accuracy: 0.9153 - loss: 0.2415 - val_accuracy: 0.8842 - val_loss: 0.3174\n",
      "Epoch 27/30\n",
      "\u001b[1m1688/1688\u001b[0m \u001b[32m━━━━━━━━━━━━━━━━━━━━\u001b[0m\u001b[37m\u001b[0m \u001b[1m3s\u001b[0m 2ms/step - accuracy: 0.9173 - loss: 0.2372 - val_accuracy: 0.8843 - val_loss: 0.3172\n",
      "Epoch 28/30\n",
      "\u001b[1m1688/1688\u001b[0m \u001b[32m━━━━━━━━━━━━━━━━━━━━\u001b[0m\u001b[37m\u001b[0m \u001b[1m3s\u001b[0m 2ms/step - accuracy: 0.9191 - loss: 0.2329 - val_accuracy: 0.8857 - val_loss: 0.3173\n",
      "Epoch 29/30\n",
      "\u001b[1m1688/1688\u001b[0m \u001b[32m━━━━━━━━━━━━━━━━━━━━\u001b[0m\u001b[37m\u001b[0m \u001b[1m3s\u001b[0m 2ms/step - accuracy: 0.9201 - loss: 0.2289 - val_accuracy: 0.8857 - val_loss: 0.3163\n",
      "Epoch 30/30\n",
      "\u001b[1m1688/1688\u001b[0m \u001b[32m━━━━━━━━━━━━━━━━━━━━\u001b[0m\u001b[37m\u001b[0m \u001b[1m3s\u001b[0m 2ms/step - accuracy: 0.9222 - loss: 0.2248 - val_accuracy: 0.8853 - val_loss: 0.3162\n"
     ]
    }
   ],
   "source": [
    "##Compiling\n",
    "Model = model.fit(\n",
    "    x_train, y_train,          # Training data and labels\n",
    "    epochs=30,                 # Number of epochs\n",
    "#     batch_size=batch_size,             # Mini-batch size\n",
    "    validation_split=0.1  # Fraction of training data to be used for validation\n",
    "#     validation_data=(x_validation,y_validation)\n",
    ")\n"
   ]
  },
  {
   "cell_type": "code",
   "execution_count": 11,
   "id": "3e1c04fd",
   "metadata": {},
   "outputs": [
    {
     "name": "stdout",
     "output_type": "stream",
     "text": [
      "\u001b[1m313/313\u001b[0m \u001b[32m━━━━━━━━━━━━━━━━━━━━\u001b[0m\u001b[37m\u001b[0m \u001b[1m0s\u001b[0m 1ms/step - accuracy: 0.8832 - loss: 0.3420\n",
      "Test Loss: 0.3380628526210785\n",
      "Test Accuracy: 0.883400022983551\n"
     ]
    }
   ],
   "source": [
    "test_loss, test_accuracy = model.evaluate(x_test, y_test)\n",
    "print(f'Test Loss: {test_loss}') ###Loss value on th last dataset\n",
    "print(f'Test Accuracy: {test_accuracy}')"
   ]
  },
  {
   "cell_type": "code",
   "execution_count": 12,
   "id": "db0bbfcb",
   "metadata": {},
   "outputs": [
    {
     "name": "stdout",
     "output_type": "stream",
     "text": [
      "\u001b[1m313/313\u001b[0m \u001b[32m━━━━━━━━━━━━━━━━━━━━\u001b[0m\u001b[37m\u001b[0m \u001b[1m0s\u001b[0m 1ms/step\n"
     ]
    }
   ],
   "source": [
    "##Transforming Prediction into numbers\n",
    "\n",
    "def output(x):\n",
    "    def roundes(y):\n",
    "        y=list(y)\n",
    "        return y.index(max(y))\n",
    "    outputs = []\n",
    "    for i in x:\n",
    "        xx = roundes(i)  # Get the index of 1 in the rounded list\n",
    "        outputs.append(class_names[xx])  # Append the result to outputs\n",
    "    return outputs\n",
    "\n",
    "Outputs_test=output(model.predict(x_test))"
   ]
  },
  {
   "cell_type": "code",
   "execution_count": 13,
   "id": "a8e9867e",
   "metadata": {},
   "outputs": [
    {
     "data": {
      "image/png": "[encoded data removed]",
      "text/plain": [
       "<Figure size 640x480 with 1 Axes>"
      ]
     },
     "metadata": {},
     "output_type": "display_data"
    },
    {
     "name": "stdout",
     "output_type": "stream",
     "text": [
      "the MLP predict the clothing item as Sneaker\n"
     ]
    }
   ],
   "source": [
    "###Predicting \n",
    "import random\n",
    "import matplotlib.pyplot as plt\n",
    "\n",
    "imagetoshow= random.randint(1, len(Outputs_test))\n",
    "image_test=x_test2[imagetoshow]\n",
    "plt.imshow(image_test, cmap='gray')\n",
    "plt.axis('off')  # Optional: turn off the axis\n",
    "plt.show()\n",
    "print(f\"the MLP predict the clothing item as {Outputs_test[imagetoshow]}\")\n"
   ]
  },
  {
   "cell_type": "code",
   "execution_count": 14,
   "id": "56be53a8",
   "metadata": {},
   "outputs": [
    {
     "data": {
      "text/plain": [
       "array([[ 0.03482341, -0.04943771, -0.05012406, ..., -0.03047935,\n",
       "        -0.02890254,  0.01684134],\n",
       "       [-0.05859389,  0.06868282, -0.04180847, ..., -0.01857452,\n",
       "        -0.01480421,  0.0309114 ],\n",
       "       [ 0.06523735, -0.06476507, -0.01807637, ...,  0.00027642,\n",
       "         0.0438569 ,  0.03078454],\n",
       "       ...,\n",
       "       [-0.02823202,  0.03427539,  0.01008546, ..., -0.04900652,\n",
       "        -0.05369514,  0.05393742],\n",
       "       [-0.04985757,  0.00661197,  0.07803334, ..., -0.05824855,\n",
       "         0.07138868,  0.01700334],\n",
       "       [-0.04166294,  0.07128636,  0.04647928, ..., -0.0535982 ,\n",
       "         0.02925825,  0.0066873 ]], dtype=float32)"
      ]
     },
     "execution_count": 14,
     "metadata": {},
     "output_type": "execute_result"
    }
   ],
   "source": [
    "hidden_l1=model.layers[1]\n",
    "hidden_l2=model.layers[2]\n",
    "out_l1=model.layers[3]\n",
    "##Getting  final node and biases weighys\n",
    "weights_l1, biases_l1 = hidden_l1.get_weights()\n",
    "weights_l1\n"
   ]
  },
  {
   "cell_type": "code",
   "execution_count": 19,
   "id": "aeed8d2d",
   "metadata": {},
   "outputs": [
    {
     "data": {
      "text/html": [
       "<div>\n",
       "<style scoped>\n",
       "    .dataframe tbody tr th:only-of-type {\n",
       "        vertical-align: middle;\n",
       "    }\n",
       "\n",
       "    .dataframe tbody tr th {\n",
       "        vertical-align: top;\n",
       "    }\n",
       "\n",
       "    .dataframe thead th {\n",
       "        text-align: right;\n",
       "    }\n",
       "</style>\n",
       "<table border=\"1\" class=\"dataframe\">\n",
       "  <thead>\n",
       "    <tr style=\"text-align: right;\">\n",
       "      <th></th>\n",
       "      <th>accuracy</th>\n",
       "      <th>loss</th>\n",
       "      <th>val_accuracy</th>\n",
       "      <th>val_loss</th>\n",
       "    </tr>\n",
       "  </thead>\n",
       "  <tbody>\n",
       "    <tr>\n",
       "      <th>0</th>\n",
       "      <td>0.763481</td>\n",
       "      <td>0.717967</td>\n",
       "      <td>0.814667</td>\n",
       "      <td>0.533267</td>\n",
       "    </tr>\n",
       "    <tr>\n",
       "      <th>1</th>\n",
       "      <td>0.833019</td>\n",
       "      <td>0.484482</td>\n",
       "      <td>0.834500</td>\n",
       "      <td>0.469425</td>\n",
       "    </tr>\n",
       "    <tr>\n",
       "      <th>2</th>\n",
       "      <td>0.847500</td>\n",
       "      <td>0.439668</td>\n",
       "      <td>0.847333</td>\n",
       "      <td>0.437167</td>\n",
       "    </tr>\n",
       "    <tr>\n",
       "      <th>3</th>\n",
       "      <td>0.856519</td>\n",
       "      <td>0.412660</td>\n",
       "      <td>0.855833</td>\n",
       "      <td>0.413714</td>\n",
       "    </tr>\n",
       "    <tr>\n",
       "      <th>4</th>\n",
       "      <td>0.862630</td>\n",
       "      <td>0.392848</td>\n",
       "      <td>0.860333</td>\n",
       "      <td>0.397019</td>\n",
       "    </tr>\n",
       "    <tr>\n",
       "      <th>5</th>\n",
       "      <td>0.868222</td>\n",
       "      <td>0.376917</td>\n",
       "      <td>0.863000</td>\n",
       "      <td>0.384247</td>\n",
       "    </tr>\n",
       "    <tr>\n",
       "      <th>6</th>\n",
       "      <td>0.872185</td>\n",
       "      <td>0.363739</td>\n",
       "      <td>0.867167</td>\n",
       "      <td>0.377271</td>\n",
       "    </tr>\n",
       "    <tr>\n",
       "      <th>7</th>\n",
       "      <td>0.876093</td>\n",
       "      <td>0.352461</td>\n",
       "      <td>0.872000</td>\n",
       "      <td>0.367815</td>\n",
       "    </tr>\n",
       "    <tr>\n",
       "      <th>8</th>\n",
       "      <td>0.879630</td>\n",
       "      <td>0.342363</td>\n",
       "      <td>0.872667</td>\n",
       "      <td>0.361425</td>\n",
       "    </tr>\n",
       "    <tr>\n",
       "      <th>9</th>\n",
       "      <td>0.882389</td>\n",
       "      <td>0.333201</td>\n",
       "      <td>0.873000</td>\n",
       "      <td>0.354985</td>\n",
       "    </tr>\n",
       "    <tr>\n",
       "      <th>10</th>\n",
       "      <td>0.884704</td>\n",
       "      <td>0.324870</td>\n",
       "      <td>0.874167</td>\n",
       "      <td>0.350712</td>\n",
       "    </tr>\n",
       "    <tr>\n",
       "      <th>11</th>\n",
       "      <td>0.887444</td>\n",
       "      <td>0.317027</td>\n",
       "      <td>0.875500</td>\n",
       "      <td>0.345807</td>\n",
       "    </tr>\n",
       "    <tr>\n",
       "      <th>12</th>\n",
       "      <td>0.890148</td>\n",
       "      <td>0.309599</td>\n",
       "      <td>0.876667</td>\n",
       "      <td>0.341533</td>\n",
       "    </tr>\n",
       "    <tr>\n",
       "      <th>13</th>\n",
       "      <td>0.891944</td>\n",
       "      <td>0.302657</td>\n",
       "      <td>0.876667</td>\n",
       "      <td>0.338295</td>\n",
       "    </tr>\n",
       "    <tr>\n",
       "      <th>14</th>\n",
       "      <td>0.894593</td>\n",
       "      <td>0.296181</td>\n",
       "      <td>0.878167</td>\n",
       "      <td>0.334828</td>\n",
       "    </tr>\n",
       "    <tr>\n",
       "      <th>15</th>\n",
       "      <td>0.896056</td>\n",
       "      <td>0.290064</td>\n",
       "      <td>0.880333</td>\n",
       "      <td>0.331715</td>\n",
       "    </tr>\n",
       "    <tr>\n",
       "      <th>16</th>\n",
       "      <td>0.898481</td>\n",
       "      <td>0.284312</td>\n",
       "      <td>0.881833</td>\n",
       "      <td>0.329180</td>\n",
       "    </tr>\n",
       "    <tr>\n",
       "      <th>17</th>\n",
       "      <td>0.900778</td>\n",
       "      <td>0.278823</td>\n",
       "      <td>0.883500</td>\n",
       "      <td>0.327702</td>\n",
       "    </tr>\n",
       "    <tr>\n",
       "      <th>18</th>\n",
       "      <td>0.902815</td>\n",
       "      <td>0.273569</td>\n",
       "      <td>0.884667</td>\n",
       "      <td>0.325365</td>\n",
       "    </tr>\n",
       "    <tr>\n",
       "      <th>19</th>\n",
       "      <td>0.904833</td>\n",
       "      <td>0.268495</td>\n",
       "      <td>0.883333</td>\n",
       "      <td>0.323624</td>\n",
       "    </tr>\n",
       "    <tr>\n",
       "      <th>20</th>\n",
       "      <td>0.906815</td>\n",
       "      <td>0.263600</td>\n",
       "      <td>0.884333</td>\n",
       "      <td>0.322460</td>\n",
       "    </tr>\n",
       "    <tr>\n",
       "      <th>21</th>\n",
       "      <td>0.908241</td>\n",
       "      <td>0.258928</td>\n",
       "      <td>0.884000</td>\n",
       "      <td>0.321477</td>\n",
       "    </tr>\n",
       "    <tr>\n",
       "      <th>22</th>\n",
       "      <td>0.910352</td>\n",
       "      <td>0.254289</td>\n",
       "      <td>0.884333</td>\n",
       "      <td>0.319933</td>\n",
       "    </tr>\n",
       "    <tr>\n",
       "      <th>23</th>\n",
       "      <td>0.912556</td>\n",
       "      <td>0.249944</td>\n",
       "      <td>0.884000</td>\n",
       "      <td>0.319353</td>\n",
       "    </tr>\n",
       "    <tr>\n",
       "      <th>24</th>\n",
       "      <td>0.913963</td>\n",
       "      <td>0.245583</td>\n",
       "      <td>0.884667</td>\n",
       "      <td>0.318361</td>\n",
       "    </tr>\n",
       "    <tr>\n",
       "      <th>25</th>\n",
       "      <td>0.914889</td>\n",
       "      <td>0.241362</td>\n",
       "      <td>0.884167</td>\n",
       "      <td>0.317385</td>\n",
       "    </tr>\n",
       "    <tr>\n",
       "      <th>26</th>\n",
       "      <td>0.916907</td>\n",
       "      <td>0.237346</td>\n",
       "      <td>0.884333</td>\n",
       "      <td>0.317206</td>\n",
       "    </tr>\n",
       "    <tr>\n",
       "      <th>27</th>\n",
       "      <td>0.918426</td>\n",
       "      <td>0.233249</td>\n",
       "      <td>0.885667</td>\n",
       "      <td>0.317305</td>\n",
       "    </tr>\n",
       "    <tr>\n",
       "      <th>28</th>\n",
       "      <td>0.919574</td>\n",
       "      <td>0.229295</td>\n",
       "      <td>0.885667</td>\n",
       "      <td>0.316301</td>\n",
       "    </tr>\n",
       "    <tr>\n",
       "      <th>29</th>\n",
       "      <td>0.920833</td>\n",
       "      <td>0.225382</td>\n",
       "      <td>0.885333</td>\n",
       "      <td>0.316174</td>\n",
       "    </tr>\n",
       "  </tbody>\n",
       "</table>\n",
       "</div>"
      ],
      "text/plain": [
       "    accuracy      loss  val_accuracy  val_loss\n",
       "0   0.763481  0.717967      0.814667  0.533267\n",
       "1   0.833019  0.484482      0.834500  0.469425\n",
       "2   0.847500  0.439668      0.847333  0.437167\n",
       "3   0.856519  0.412660      0.855833  0.413714\n",
       "4   0.862630  0.392848      0.860333  0.397019\n",
       "5   0.868222  0.376917      0.863000  0.384247\n",
       "6   0.872185  0.363739      0.867167  0.377271\n",
       "7   0.876093  0.352461      0.872000  0.367815\n",
       "8   0.879630  0.342363      0.872667  0.361425\n",
       "9   0.882389  0.333201      0.873000  0.354985\n",
       "10  0.884704  0.324870      0.874167  0.350712\n",
       "11  0.887444  0.317027      0.875500  0.345807\n",
       "12  0.890148  0.309599      0.876667  0.341533\n",
       "13  0.891944  0.302657      0.876667  0.338295\n",
       "14  0.894593  0.296181      0.878167  0.334828\n",
       "15  0.896056  0.290064      0.880333  0.331715\n",
       "16  0.898481  0.284312      0.881833  0.329180\n",
       "17  0.900778  0.278823      0.883500  0.327702\n",
       "18  0.902815  0.273569      0.884667  0.325365\n",
       "19  0.904833  0.268495      0.883333  0.323624\n",
       "20  0.906815  0.263600      0.884333  0.322460\n",
       "21  0.908241  0.258928      0.884000  0.321477\n",
       "22  0.910352  0.254289      0.884333  0.319933\n",
       "23  0.912556  0.249944      0.884000  0.319353\n",
       "24  0.913963  0.245583      0.884667  0.318361\n",
       "25  0.914889  0.241362      0.884167  0.317385\n",
       "26  0.916907  0.237346      0.884333  0.317206\n",
       "27  0.918426  0.233249      0.885667  0.317305\n",
       "28  0.919574  0.229295      0.885667  0.316301\n",
       "29  0.920833  0.225382      0.885333  0.316174"
      ]
     },
     "execution_count": 19,
     "metadata": {},
     "output_type": "execute_result"
    }
   ],
   "source": [
    "import pandas as pd \n",
    "###Inspecting the fitted model\n",
    "History=pd.DataFrame(Model.history)#Plotting the model passthrough performance \n",
    "History"
   ]
  },
  {
   "cell_type": "code",
   "execution_count": 25,
   "id": "ad49d775",
   "metadata": {},
   "outputs": [
    {
     "data": {
      "image/png": "[encoded data removed]",
      "text/plain": [
       "<Figure size 800x500 with 1 Axes>"
      ]
     },
     "metadata": {},
     "output_type": "display_data"
    }
   ],
   "source": [
    "##Plotting the model epochs and the loss \n",
    "History.plot(grid=True, xlim=(0,29), ylim=(0,1), figsize=(8,5), xlabel=\"epoch\", ylabel=\"Accuracy/Loss\", style=[\"r--\",\"r-.\",\"b-\",\"b*-\"])\n",
    "plt.title(\"Neural Network perfomance through epochs\")\n",
    "plt.show()"
   ]
  }
 ],
 "metadata": {
  "kernelspec": {
   "display_name": "Python 3 (ipykernel)",
   "language": "python",
   "name": "python3"
  },
  "language_info": {
   "codemirror_mode": {
    "name": "ipython",
    "version": 3
   },
   "file_extension": ".py",
   "mimetype": "text/x-python",
   "name": "python",
   "nbconvert_exporter": "python",
   "pygments_lexer": "ipython3",
   "version": "3.11.5"
  }
 },
 "nbformat": 4,
 "nbformat_minor": 5
}
