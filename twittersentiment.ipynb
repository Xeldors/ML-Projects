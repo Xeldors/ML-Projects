{
 "cells": [
  {
   "cell_type": "code",
   "execution_count": 1,
   "id": "bf1192de",
   "metadata": {},
   "outputs": [],
   "source": [
    "import tensorflow as  tf #Required to fit Neural Networks\n",
    "import os #Required to address wd\n",
    "import pandas as pd #Required for data manipulation\n",
    "import numpy as np #Required for mathematical operations\n",
    "import re #Required for reshaping the tweets without punctuation signs\n",
    "import string#Required for reshaping the tweets without punctuation signs\n",
    "from tensorflow.keras.layers import TextVectorization #Required for text vectorisation\n",
    "import sklearn as sk #Required for accuracy metrics"
   ]
  },
  {
   "cell_type": "markdown",
   "id": "b814c625",
   "metadata": {},
   "source": [
    "$$\n",
    "\\large\\textbf{Twitter/X sentiment analysis}\n",
    "$$"
   ]
  },
  {
   "cell_type": "markdown",
   "id": "dd899732",
   "metadata": {},
   "source": [
    "\n",
    "$$\n",
    "\\textbf{Problem definition:}\n",
    "$$\n"
   ]
  },
  {
   "cell_type": "markdown",
   "id": "0ea14cfa",
   "metadata": {},
   "source": [
    "$\n",
    "\\small\\text{Companies are constantly launching and testing new products, usually teasing them on Twitter/X. }\n",
    "$\n",
    "$\n",
    "\\small\\text{The amount of tweets that react to these company posts can be very large, making the overall sentiment difficult to measure. }\n",
    "$\n",
    "$\n",
    "\\small\\text{Millions of tweets can react to a single post, it is virtually impossible for a company to read through all these tweets.\n",
    "}\n",
    "$\n",
    "$\n",
    "\\small \\text{This ML/AI solution can help companies by quickly analyzing tweets and determining the overal positiveness of the market towards a product.}\n",
    "$\n",
    "$\n",
    "\\small \\text{Hence, a company can theoretically retrieve or download all the tweets with a certain hashtag, run them through the model, and average the results} \n",
    "$\n",
    "$\n",
    "\\small \\text{ to get a quick picture of the overall market sentiment towards the teased product.\n",
    "}\n",
    "$\n"
   ]
  },
  {
   "cell_type": "markdown",
   "id": "2723e2ff",
   "metadata": {},
   "source": [
    "$$\n",
    "\\textbf{Data and assumptions of the project:}\n",
    "$$"
   ]
  },
  {
   "cell_type": "markdown",
   "id": "d6c111db",
   "metadata": {},
   "source": [
    "$\n",
    "\\small\\text{Data is a subset of the sentiment140 open dataset from tensorflow hub.}\n",
    "\\\n",
    "\\href{https://www.tensorflow.org/datasets/catalog/sentiment140}{TFSentiment140}\n",
    "$\n",
    "$\n",
    "\\small\\text{The data file format has 6 fields:}\n",
    "\\\\\n",
    "$\n",
    "$\n",
    "\\small\\text{ - The polarity of the tweet (0 = negative, 4 = positive)}  \n",
    "$\n",
    "\n",
    "$\n",
    "\\small\\text{ - The id of the tweet (2087)}  \n",
    "$\n",
    "\n",
    "$\n",
    "\\small\\text{ - The date of the tweet (Sat May 16 23:58:44 UTC 2009)}  \n",
    "$\n",
    "\n",
    "$\n",
    "\\small\\text{ - The query (lyx). If there is no query, then this value is NO_QUERY.}  \n",
    "$\n",
    "\n",
    "$\n",
    "\\small\\text{ - The user that tweeted}  \n",
    "$\n",
    "\n",
    "$\n",
    "\\small\\text{ - The text of the tweet (Lyx is cool)}\n",
    "$\n",
    "\n",
    "$\n",
    "\\small\\text{The dataset used can be retrieved directly from:}\n",
    "\\\n",
    "\\href{https://github.com/tensorflow/datasets/tree/master/tensorflow_datasets/datasets/sentiment140/dummy_data/training.1600000.processed.noemoticon.csv}{CSVLinkData}\n",
    "$\n"
   ]
  },
  {
   "cell_type": "markdown",
   "id": "e9a9ed93",
   "metadata": {},
   "source": [
    "$\n",
    "\\small\\text{The underlying main assumption is that the dataset properly indentifies the positive and negative tweets.}\n",
    "$\n",
    "$\n",
    "\\small\\text{This classification of tweets between positive and negative makes the dataset compelling for sentiment analysis.}\n",
    "$\n",
    "$\n",
    "\\small\\text{The tweets can be transformed into vectors classifying each word with and ID. And their sentiment can be stated in binary (1 for positive, 0 for negative).}\n",
    "$\n",
    "$\n",
    "\\small\\text{Following this, the tweets in vectorised form can be passed through DNN that will output 1 or 0, thus identifying the sentiment of the tweet.}\n",
    "$\n",
    "\n",
    "$\n",
    "\\small\\text{Prior uploading the data into Jupyter, the file has been transformed into xlsx. with separated columns.}\n",
    "$\n",
    "$\n",
    "\\small\\text{This pre-processing of the data was needed to avoid unexpected errors in fetching the data directly from the raw csv.}\n",
    "$"
   ]
  },
  {
   "cell_type": "markdown",
   "id": "4ba20652",
   "metadata": {},
   "source": [
    "$$\n",
    "\\textbf{Data Citation:}\n",
    "$$"
   ]
  },
  {
   "cell_type": "markdown",
   "id": "b26eb679",
   "metadata": {},
   "source": [
    "$\n",
    "\\small{Go, Alec, Bhayani, Richa, and Huang, Lei.} \n",
    "$\n",
    "$\n",
    "\\small{\\textit{\"Twitter Sentiment Classification using Distant Supervision.\"(2009). } Available:} \n",
    "$\n",
    "$\n",
    "\\href{http://help.sentiment140.com/home}{http://help.sentiment140.com/home}\n",
    "$"
   ]
  },
  {
   "cell_type": "markdown",
   "id": "51a54c89",
   "metadata": {},
   "source": [
    "$$\n",
    "\\textbf{Approach and Pipeline:}\n",
    "$$"
   ]
  },
  {
   "cell_type": "markdown",
   "id": "1a9de59b",
   "metadata": {},
   "source": [
    "$\n",
    "\\small\\text{To create this ML/AI application to classify tweets a Deep Neural Network has been chosen. }\n",
    "$\n",
    "$\n",
    "\\small\\text{Due to restrain on computing power a dense network with embedding and 5 stacked layers is the chosen model arquitecture}\n",
    "$\n",
    "\n",
    "$\n",
    "\\small\\text{Steps followed to obtain and test the model:}\n",
    "$\n",
    "\n",
    "$\n",
    "\\small\\text{ 1) Data collection: Data has been dowloaded from the mentioned source and stored in a local folder}\n",
    "$\n",
    "$\n",
    "\\small\\text{ 2) Data resizing and split: Data has been resized with the same amount of positive an negative tweets and split into traing and validation, and testing. }\n",
    "$\n",
    "$\n",
    "\\small\\text{ 3) Hyperparameter and model definition }\n",
    "$\n",
    "$\n",
    "\\small\\text{ 4) Model estimation: A loop that estimates various models differentiated by the lenght allowed in the vectorization process.}\n",
    "$\n",
    "$\n",
    "\\small\\text{ 5) Model comparison: Comparing the differnt models obtained in step 4 and choosing a champion model.}\n",
    "$\n",
    "$\n",
    "\\small\\text{ 6) Testing our champion: Obtaining different metrics of the model performance power.}\n",
    "$\n",
    "$\n",
    "\\small\\text{ 7) Defining a function that will tell us if a tweet has a positive or a negative sentiment and the probability of that.}\n",
    "$"
   ]
  },
  {
   "cell_type": "markdown",
   "id": "c857eafa",
   "metadata": {},
   "source": [
    "$$\n",
    "\\textbf{Implementation}\n",
    "$$"
   ]
  },
  {
   "cell_type": "markdown",
   "id": "bb9b5737",
   "metadata": {},
   "source": [
    "$$\n",
    "\\small{\\text{- Uploading the data, resizing and splitting it -}}\n",
    "$$"
   ]
  },
  {
   "cell_type": "code",
   "execution_count": 2,
   "id": "491ca455",
   "metadata": {},
   "outputs": [],
   "source": [
    "#setting the working directory\n",
    "directory=\"C:/Users/sergi/Documents/Py/twittersentiment\"\n",
    "os.chdir(directory)"
   ]
  },
  {
   "cell_type": "code",
   "execution_count": 3,
   "id": "366d316e",
   "metadata": {},
   "outputs": [],
   "source": [
    "#Loading the dataset\n",
    "import warnings\n",
    "warnings.filterwarnings(\"ignore\")\n",
    "training_val=pd.read_excel(\"training.xlsx\")"
   ]
  },
  {
   "cell_type": "code",
   "execution_count": 4,
   "id": "a9726a81",
   "metadata": {
    "scrolled": true
   },
   "outputs": [
    {
     "data": {
      "text/html": [
       "<div>\n",
       "<style scoped>\n",
       "    .dataframe tbody tr th:only-of-type {\n",
       "        vertical-align: middle;\n",
       "    }\n",
       "\n",
       "    .dataframe tbody tr th {\n",
       "        vertical-align: top;\n",
       "    }\n",
       "\n",
       "    .dataframe thead th {\n",
       "        text-align: right;\n",
       "    }\n",
       "</style>\n",
       "<table border=\"1\" class=\"dataframe\">\n",
       "  <thead>\n",
       "    <tr style=\"text-align: right;\">\n",
       "      <th></th>\n",
       "      <th>sentiment</th>\n",
       "      <th>id</th>\n",
       "      <th>date</th>\n",
       "      <th>query</th>\n",
       "      <th>user</th>\n",
       "      <th>tweet</th>\n",
       "    </tr>\n",
       "  </thead>\n",
       "  <tbody>\n",
       "    <tr>\n",
       "      <th>0</th>\n",
       "      <td>0</td>\n",
       "      <td>1.467810e+09</td>\n",
       "      <td>Mon Apr 06 22:19:45 PDT 2009</td>\n",
       "      <td>NO_QUERY</td>\n",
       "      <td>_TheSpecialOne_</td>\n",
       "      <td>@switchfoot http://twitpic.com/2y1zl - Awww, t...</td>\n",
       "    </tr>\n",
       "    <tr>\n",
       "      <th>1</th>\n",
       "      <td>0</td>\n",
       "      <td>1.467811e+09</td>\n",
       "      <td>Mon Apr 06 22:19:49 PDT 2009</td>\n",
       "      <td>NO_QUERY</td>\n",
       "      <td>scotthamilton</td>\n",
       "      <td>is upset that he can't update his Facebook by ...</td>\n",
       "    </tr>\n",
       "    <tr>\n",
       "      <th>2</th>\n",
       "      <td>0</td>\n",
       "      <td>1.467811e+09</td>\n",
       "      <td>Mon Apr 06 22:19:53 PDT 2009</td>\n",
       "      <td>NO_QUERY</td>\n",
       "      <td>mattycus</td>\n",
       "      <td>@Kenichan I dived many times for the ball. Man...</td>\n",
       "    </tr>\n",
       "    <tr>\n",
       "      <th>3</th>\n",
       "      <td>0</td>\n",
       "      <td>1.467811e+09</td>\n",
       "      <td>Mon Apr 06 22:19:57 PDT 2009</td>\n",
       "      <td>NO_QUERY</td>\n",
       "      <td>ElleCTF</td>\n",
       "      <td>my whole body feels itchy and like its on fire</td>\n",
       "    </tr>\n",
       "    <tr>\n",
       "      <th>4</th>\n",
       "      <td>0</td>\n",
       "      <td>1.467811e+09</td>\n",
       "      <td>Mon Apr 06 22:19:57 PDT 2009</td>\n",
       "      <td>NO_QUERY</td>\n",
       "      <td>Karoli</td>\n",
       "      <td>@nationwideclass no, it's not behaving at all....</td>\n",
       "    </tr>\n",
       "  </tbody>\n",
       "</table>\n",
       "</div>"
      ],
      "text/plain": [
       "   sentiment            id                          date     query  \\\n",
       "0          0  1.467810e+09  Mon Apr 06 22:19:45 PDT 2009  NO_QUERY   \n",
       "1          0  1.467811e+09  Mon Apr 06 22:19:49 PDT 2009  NO_QUERY   \n",
       "2          0  1.467811e+09  Mon Apr 06 22:19:53 PDT 2009  NO_QUERY   \n",
       "3          0  1.467811e+09  Mon Apr 06 22:19:57 PDT 2009  NO_QUERY   \n",
       "4          0  1.467811e+09  Mon Apr 06 22:19:57 PDT 2009  NO_QUERY   \n",
       "\n",
       "              user                                              tweet  \n",
       "0  _TheSpecialOne_  @switchfoot http://twitpic.com/2y1zl - Awww, t...  \n",
       "1    scotthamilton  is upset that he can't update his Facebook by ...  \n",
       "2         mattycus  @Kenichan I dived many times for the ball. Man...  \n",
       "3          ElleCTF    my whole body feels itchy and like its on fire   \n",
       "4           Karoli  @nationwideclass no, it's not behaving at all....  "
      ]
     },
     "execution_count": 4,
     "metadata": {},
     "output_type": "execute_result"
    }
   ],
   "source": [
    "#Showcasing and cleaning the data\n",
    "training_val=training_val[[\"sentiment\",\"id\",\"date\",\"query\",\"user\",\"tweet\"]]\n",
    "training_val.head()"
   ]
  },
  {
   "cell_type": "code",
   "execution_count": 5,
   "id": "535c5d69",
   "metadata": {},
   "outputs": [],
   "source": [
    "tweets_train=[str(i) for i in training_val[\"tweet\"].tolist()]\n",
    "outputs = [0 if i == 0 else 1 if i == 4 else i for i in training_val[\"sentiment\"].tolist()]\n",
    "Data=pd.DataFrame({\"inputs\":tweets_train, \"outputs\":outputs})\n"
   ]
  },
  {
   "cell_type": "code",
   "execution_count": 6,
   "id": "7f4395f0",
   "metadata": {},
   "outputs": [
    {
     "name": "stdout",
     "output_type": "stream",
     "text": [
      "Nr of positive tweets: 249953, Nr of negative tweets:798622, Total Nr of Tweets:1048575\n"
     ]
    }
   ],
   "source": [
    "#Summarising data\n",
    "nr_positive=len(Data[Data[\"outputs\"]==1])\n",
    "nr_negative=len(Data[Data[\"outputs\"]==0])\n",
    "print(f\"Nr of positive tweets: {nr_positive}, Nr of negative tweets:{nr_negative}, Total Nr of Tweets:{len(Data)}\")"
   ]
  },
  {
   "cell_type": "code",
   "execution_count": 7,
   "id": "18f956c4",
   "metadata": {},
   "outputs": [
    {
     "name": "stdout",
     "output_type": "stream",
     "text": [
      "The training data has been resized to have the same amount of positive and negative tweets: 224957 for positive, and 224957 for negative\n",
      "For the testing data we are using: 24996 for positive, and 24996 for negative\n"
     ]
    },
    {
     "data": {
      "text/html": [
       "<div>\n",
       "<style scoped>\n",
       "    .dataframe tbody tr th:only-of-type {\n",
       "        vertical-align: middle;\n",
       "    }\n",
       "\n",
       "    .dataframe tbody tr th {\n",
       "        vertical-align: top;\n",
       "    }\n",
       "\n",
       "    .dataframe thead th {\n",
       "        text-align: right;\n",
       "    }\n",
       "</style>\n",
       "<table border=\"1\" class=\"dataframe\">\n",
       "  <thead>\n",
       "    <tr style=\"text-align: right;\">\n",
       "      <th></th>\n",
       "      <th>inputs</th>\n",
       "      <th>outputs</th>\n",
       "    </tr>\n",
       "  </thead>\n",
       "  <tbody>\n",
       "    <tr>\n",
       "      <th>0</th>\n",
       "      <td>@LaurenConrad I can't believe he lost... I'm s...</td>\n",
       "      <td>0</td>\n",
       "    </tr>\n",
       "    <tr>\n",
       "      <th>1</th>\n",
       "      <td>Larry's out for the night at a Halo party with...</td>\n",
       "      <td>0</td>\n",
       "    </tr>\n",
       "    <tr>\n",
       "      <th>2</th>\n",
       "      <td>Chase has been home for an hour, and has alrea...</td>\n",
       "      <td>0</td>\n",
       "    </tr>\n",
       "    <tr>\n",
       "      <th>3</th>\n",
       "      <td>I sliced my thumb pretty bad today... but I do...</td>\n",
       "      <td>0</td>\n",
       "    </tr>\n",
       "    <tr>\n",
       "      <th>4</th>\n",
       "      <td>@megkautz ring tailed lemurs are my favorite n...</td>\n",
       "      <td>1</td>\n",
       "    </tr>\n",
       "  </tbody>\n",
       "</table>\n",
       "</div>"
      ],
      "text/plain": [
       "                                              inputs  outputs\n",
       "0  @LaurenConrad I can't believe he lost... I'm s...        0\n",
       "1  Larry's out for the night at a Halo party with...        0\n",
       "2  Chase has been home for an hour, and has alrea...        0\n",
       "3  I sliced my thumb pretty bad today... but I do...        0\n",
       "4  @megkautz ring tailed lemurs are my favorite n...        1"
      ]
     },
     "execution_count": 7,
     "metadata": {},
     "output_type": "execute_result"
    }
   ],
   "source": [
    "#Reducing the dataset to 50000 positive and negative (this is done to avoid excessive training time)\n",
    "shuffled_positive = Data[Data[\"outputs\"]==1].sample(frac=1, random_state=10).reset_index(drop=True)\n",
    "shuffled_negative = Data[Data[\"outputs\"]==0].sample(frac=1, random_state=10).reset_index(drop=True)\n",
    "\n",
    "shuffled_positive_train=shuffled_positive.iloc[:int(nr_positive*0.9),:]\n",
    "shuffled_negative_train=shuffled_negative.iloc[:int(nr_positive*0.9),:]\n",
    "\n",
    "shuffled_positive_test=shuffled_positive.iloc[int(nr_positive*0.9):,:]\n",
    "shuffled_negative_test=shuffled_negative.iloc[int(nr_positive*0.9):len(shuffled_positive),:]\n",
    "\n",
    "\n",
    "train_data=pd.concat([shuffled_positive_train,shuffled_negative_train], axis=0).sample(frac=1, random_state=10).reset_index(drop=True)\n",
    "test_data=pd.concat([shuffled_positive_test,shuffled_negative_test], axis=0).sample(frac=1, random_state=10).reset_index(drop=True)\n",
    "\n",
    "\n",
    "print(f\"The training data has been resized to have the same amount of positive and negative tweets: {len(shuffled_positive_train)} for positive, and {len(shuffled_negative_train)} for negative\")\n",
    "print(f\"For the testing data we are using: {len(shuffled_positive_test)} for positive, and {len(shuffled_negative_test)} for negative\")\n",
    "\n",
    "train_data.head()\n"
   ]
  },
  {
   "cell_type": "markdown",
   "id": "8d47d955",
   "metadata": {},
   "source": [
    "$$\n",
    "\\small{\\text{- Hyperparameter tuning and model architecture -}}\n",
    "$$"
   ]
  },
  {
   "cell_type": "code",
   "execution_count": 8,
   "id": "9470f08c",
   "metadata": {},
   "outputs": [],
   "source": [
    "##Model and model hyperparameter-\n",
    "#You can tune this to obtain differeny result\n",
    "optimizer=\"nadam\"\n",
    "loss=\"binary_crossentropy\"# Given the architecture of the model, this hyperparamenter should not be tuned. Setting another loss may need different data treatment.\n",
    "max_tokens=20000# Maximum amount of tokens that the embeddings will learn\n",
    "batches=100 #Packs of observations for which the model will compute gradient descent with nadam\n",
    "embedding_dim=256 #the dimensionality of the embedding matrix. Particularly the columns.\n",
    "epochs=3 # Nr of times the model will be iterated."
   ]
  },
  {
   "cell_type": "code",
   "execution_count": 9,
   "id": "7b53ae27",
   "metadata": {},
   "outputs": [],
   "source": [
    "#Cleaning of upper case and special characters:\n",
    "#This function will be run on each of the observed inputs when they are being vectorised.\n",
    "def custom_standardization(input_data):\n",
    "    lowercase = tf.strings.lower(input_data)\n",
    "    stripped_html = tf.strings.regex_replace(lowercase, '<br />', ' ')\n",
    "    return tf.strings.regex_replace(stripped_html, '[%s]' % re.escape(string.punctuation), '')"
   ]
  },
  {
   "cell_type": "code",
   "execution_count": 10,
   "id": "9a7f778d",
   "metadata": {},
   "outputs": [],
   "source": [
    "#Defining the model\n",
    "#It is simple sequential model with embeddings.\n",
    "model = tf.keras.Sequential([\n",
    "    tf.keras.layers.Embedding(input_dim=max_tokens, output_dim=embedding_dim), \n",
    "    tf.keras.layers.GlobalAveragePooling1D(),\n",
    "    tf.keras.layers.Dense(500, activation='relu'),\n",
    "    tf.keras.layers.Dense(250, activation='relu'), \n",
    "    tf.keras.layers.Dense(100, activation='relu'), \n",
    "    tf.keras.layers.Dense(50, activation='relu'),    \n",
    "    tf.keras.layers.Dense(16, activation='relu'),    \n",
    "    tf.keras.layers.Dense(1,activation=\"sigmoid\")\n",
    "])"
   ]
  },
  {
   "cell_type": "markdown",
   "id": "efc828f2",
   "metadata": {},
   "source": [
    "$$\n",
    "\\small{\\text{- Model Estimation -}}\n",
    "$$"
   ]
  },
  {
   "cell_type": "code",
   "execution_count": 11,
   "id": "79ddbb96",
   "metadata": {},
   "outputs": [],
   "source": [
    "#Transforming the testing and training outputs into tensors \n",
    "outputs_tensor = tf.constant(train_data[\"outputs\"], dtype=tf.float32)\n",
    "test_outputs_tensor= tf.constant(test_data[\"outputs\"], dtype=tf.float32)\n"
   ]
  },
  {
   "cell_type": "code",
   "execution_count": 12,
   "id": "bb193919",
   "metadata": {},
   "outputs": [
    {
     "name": "stdout",
     "output_type": "stream",
     "text": [
      "Epoch 1/3\n",
      "\u001b[1m3824/3824\u001b[0m \u001b[32m━━━━━━━━━━━━━━━━━━━━\u001b[0m\u001b[37m\u001b[0m \u001b[1m91s\u001b[0m 23ms/step - accuracy: 0.6939 - loss: 0.5742 - val_accuracy: 0.7200 - val_loss: 0.5420\n",
      "Epoch 2/3\n",
      "\u001b[1m3824/3824\u001b[0m \u001b[32m━━━━━━━━━━━━━━━━━━━━\u001b[0m\u001b[37m\u001b[0m \u001b[1m89s\u001b[0m 23ms/step - accuracy: 0.7348 - loss: 0.5208 - val_accuracy: 0.7193 - val_loss: 0.5490\n",
      "Epoch 3/3\n",
      "\u001b[1m3824/3824\u001b[0m \u001b[32m━━━━━━━━━━━━━━━━━━━━\u001b[0m\u001b[37m\u001b[0m \u001b[1m91s\u001b[0m 24ms/step - accuracy: 0.7651 - loss: 0.4734 - val_accuracy: 0.7038 - val_loss: 0.6088\n",
      "\u001b[1m500/500\u001b[0m \u001b[32m━━━━━━━━━━━━━━━━━━━━\u001b[0m\u001b[37m\u001b[0m \u001b[1m1s\u001b[0m 2ms/step - accuracy: 0.6990 - loss: 0.6125\n",
      "end of model with vector len 5\n",
      "Epoch 1/3\n",
      "\u001b[1m3824/3824\u001b[0m \u001b[32m━━━━━━━━━━━━━━━━━━━━\u001b[0m\u001b[37m\u001b[0m \u001b[1m92s\u001b[0m 24ms/step - accuracy: 0.7956 - loss: 0.4326 - val_accuracy: 0.7726 - val_loss: 0.4716\n",
      "Epoch 2/3\n",
      "\u001b[1m3824/3824\u001b[0m \u001b[32m━━━━━━━━━━━━━━━━━━━━\u001b[0m\u001b[37m\u001b[0m \u001b[1m91s\u001b[0m 24ms/step - accuracy: 0.8303 - loss: 0.3697 - val_accuracy: 0.7597 - val_loss: 0.5245\n",
      "Epoch 3/3\n",
      "\u001b[1m3824/3824\u001b[0m \u001b[32m━━━━━━━━━━━━━━━━━━━━\u001b[0m\u001b[37m\u001b[0m \u001b[1m94s\u001b[0m 24ms/step - accuracy: 0.8639 - loss: 0.3042 - val_accuracy: 0.7497 - val_loss: 0.6529\n",
      "\u001b[1m500/500\u001b[0m \u001b[32m━━━━━━━━━━━━━━━━━━━━\u001b[0m\u001b[37m\u001b[0m \u001b[1m1s\u001b[0m 1ms/step - accuracy: 0.7507 - loss: 0.6435\n",
      "end of model with vector len 15\n",
      "Epoch 1/3\n",
      "\u001b[1m3824/3824\u001b[0m \u001b[32m━━━━━━━━━━━━━━━━━━━━\u001b[0m\u001b[37m\u001b[0m \u001b[1m102s\u001b[0m 26ms/step - accuracy: 0.8732 - loss: 0.2895 - val_accuracy: 0.7701 - val_loss: 0.5410\n",
      "Epoch 2/3\n",
      "\u001b[1m3824/3824\u001b[0m \u001b[32m━━━━━━━━━━━━━━━━━━━━\u001b[0m\u001b[37m\u001b[0m \u001b[1m106s\u001b[0m 28ms/step - accuracy: 0.8941 - loss: 0.2442 - val_accuracy: 0.7596 - val_loss: 0.7108\n",
      "Epoch 3/3\n",
      "\u001b[1m3824/3824\u001b[0m \u001b[32m━━━━━━━━━━━━━━━━━━━━\u001b[0m\u001b[37m\u001b[0m \u001b[1m107s\u001b[0m 28ms/step - accuracy: 0.9082 - loss: 0.2139 - val_accuracy: 0.7607 - val_loss: 0.8806\n",
      "\u001b[1m500/500\u001b[0m \u001b[32m━━━━━━━━━━━━━━━━━━━━\u001b[0m\u001b[37m\u001b[0m \u001b[1m1s\u001b[0m 2ms/step - accuracy: 0.7577 - loss: 0.8803\n",
      "end of model with vector len 25\n",
      "Epoch 1/3\n",
      "\u001b[1m3824/3824\u001b[0m \u001b[32m━━━━━━━━━━━━━━━━━━━━\u001b[0m\u001b[37m\u001b[0m \u001b[1m113s\u001b[0m 29ms/step - accuracy: 0.9066 - loss: 0.2193 - val_accuracy: 0.7564 - val_loss: 0.7613\n",
      "Epoch 2/3\n",
      "\u001b[1m3824/3824\u001b[0m \u001b[32m━━━━━━━━━━━━━━━━━━━━\u001b[0m\u001b[37m\u001b[0m \u001b[1m106s\u001b[0m 28ms/step - accuracy: 0.9173 - loss: 0.1922 - val_accuracy: 0.7567 - val_loss: 0.8620\n",
      "Epoch 3/3\n",
      "\u001b[1m3824/3824\u001b[0m \u001b[32m━━━━━━━━━━━━━━━━━━━━\u001b[0m\u001b[37m\u001b[0m \u001b[1m109s\u001b[0m 29ms/step - accuracy: 0.9217 - loss: 0.1819 - val_accuracy: 0.7434 - val_loss: 1.1261\n",
      "\u001b[1m500/500\u001b[0m \u001b[32m━━━━━━━━━━━━━━━━━━━━\u001b[0m\u001b[37m\u001b[0m \u001b[1m1s\u001b[0m 2ms/step - accuracy: 0.7421 - loss: 1.1170\n",
      "end of model with vector len 35\n",
      "Epoch 1/3\n",
      "\u001b[1m3824/3824\u001b[0m \u001b[32m━━━━━━━━━━━━━━━━━━━━\u001b[0m\u001b[37m\u001b[0m \u001b[1m113s\u001b[0m 29ms/step - accuracy: 0.9003 - loss: 0.2399 - val_accuracy: 0.7484 - val_loss: 0.8151\n",
      "Epoch 2/3\n",
      "\u001b[1m3824/3824\u001b[0m \u001b[32m━━━━━━━━━━━━━━━━━━━━\u001b[0m\u001b[37m\u001b[0m \u001b[1m114s\u001b[0m 30ms/step - accuracy: 0.9173 - loss: 0.1960 - val_accuracy: 0.7437 - val_loss: 0.9161\n",
      "Epoch 3/3\n",
      "\u001b[1m3824/3824\u001b[0m \u001b[32m━━━━━━━━━━━━━━━━━━━━\u001b[0m\u001b[37m\u001b[0m \u001b[1m114s\u001b[0m 30ms/step - accuracy: 0.9181 - loss: 0.1936 - val_accuracy: 0.7501 - val_loss: 1.0427\n",
      "\u001b[1m500/500\u001b[0m \u001b[32m━━━━━━━━━━━━━━━━━━━━\u001b[0m\u001b[37m\u001b[0m \u001b[1m1s\u001b[0m 2ms/step - accuracy: 0.7524 - loss: 1.0208\n",
      "end of model with vector len 45\n",
      "Epoch 1/3\n",
      "\u001b[1m3824/3824\u001b[0m \u001b[32m━━━━━━━━━━━━━━━━━━━━\u001b[0m\u001b[37m\u001b[0m \u001b[1m116s\u001b[0m 30ms/step - accuracy: 0.8956 - loss: 0.2555 - val_accuracy: 0.7457 - val_loss: 0.8338\n",
      "Epoch 2/3\n",
      "\u001b[1m3824/3824\u001b[0m \u001b[32m━━━━━━━━━━━━━━━━━━━━\u001b[0m\u001b[37m\u001b[0m \u001b[1m114s\u001b[0m 30ms/step - accuracy: 0.9121 - loss: 0.2122 - val_accuracy: 0.7486 - val_loss: 0.9540\n",
      "Epoch 3/3\n",
      "\u001b[1m3824/3824\u001b[0m \u001b[32m━━━━━━━━━━━━━━━━━━━━\u001b[0m\u001b[37m\u001b[0m \u001b[1m115s\u001b[0m 30ms/step - accuracy: 0.9194 - loss: 0.1945 - val_accuracy: 0.7481 - val_loss: 0.9793\n",
      "\u001b[1m500/500\u001b[0m \u001b[32m━━━━━━━━━━━━━━━━━━━━\u001b[0m\u001b[37m\u001b[0m \u001b[1m1s\u001b[0m 2ms/step - accuracy: 0.7515 - loss: 0.9656\n",
      "end of model with vector len 55\n",
      "Epoch 1/3\n",
      "\u001b[1m3824/3824\u001b[0m \u001b[32m━━━━━━━━━━━━━━━━━━━━\u001b[0m\u001b[37m\u001b[0m \u001b[1m119s\u001b[0m 31ms/step - accuracy: 0.8779 - loss: 0.2977 - val_accuracy: 0.7708 - val_loss: 0.4875\n",
      "Epoch 2/3\n",
      "\u001b[1m3824/3824\u001b[0m \u001b[32m━━━━━━━━━━━━━━━━━━━━\u001b[0m\u001b[37m\u001b[0m \u001b[1m116s\u001b[0m 30ms/step - accuracy: 0.9019 - loss: 0.2400 - val_accuracy: 0.7760 - val_loss: 0.5303\n",
      "Epoch 3/3\n",
      "\u001b[1m3824/3824\u001b[0m \u001b[32m━━━━━━━━━━━━━━━━━━━━\u001b[0m\u001b[37m\u001b[0m \u001b[1m118s\u001b[0m 31ms/step - accuracy: 0.9128 - loss: 0.2145 - val_accuracy: 0.7626 - val_loss: 0.6687\n",
      "\u001b[1m500/500\u001b[0m \u001b[32m━━━━━━━━━━━━━━━━━━━━\u001b[0m\u001b[37m\u001b[0m \u001b[1m1s\u001b[0m 3ms/step - accuracy: 0.7642 - loss: 0.6626\n",
      "end of model with vector len 65\n",
      "Epoch 1/3\n",
      "\u001b[1m3824/3824\u001b[0m \u001b[32m━━━━━━━━━━━━━━━━━━━━\u001b[0m\u001b[37m\u001b[0m \u001b[1m125s\u001b[0m 32ms/step - accuracy: 0.8781 - loss: 0.2976 - val_accuracy: 0.7736 - val_loss: 0.6239\n",
      "Epoch 2/3\n",
      "\u001b[1m3824/3824\u001b[0m \u001b[32m━━━━━━━━━━━━━━━━━━━━\u001b[0m\u001b[37m\u001b[0m \u001b[1m113s\u001b[0m 30ms/step - accuracy: 0.9023 - loss: 0.2377 - val_accuracy: 0.7686 - val_loss: 0.6220\n",
      "Epoch 3/3\n",
      "\u001b[1m3824/3824\u001b[0m \u001b[32m━━━━━━━━━━━━━━━━━━━━\u001b[0m\u001b[37m\u001b[0m \u001b[1m116s\u001b[0m 30ms/step - accuracy: 0.9117 - loss: 0.2162 - val_accuracy: 0.7706 - val_loss: 0.6205\n",
      "\u001b[1m500/500\u001b[0m \u001b[32m━━━━━━━━━━━━━━━━━━━━\u001b[0m\u001b[37m\u001b[0m \u001b[1m1s\u001b[0m 3ms/step - accuracy: 0.7720 - loss: 0.6139\n",
      "end of model with vector len 75\n",
      "Epoch 1/3\n",
      "\u001b[1m3824/3824\u001b[0m \u001b[32m━━━━━━━━━━━━━━━━━━━━\u001b[0m\u001b[37m\u001b[0m \u001b[1m122s\u001b[0m 31ms/step - accuracy: 0.8624 - loss: 0.3317 - val_accuracy: 0.7655 - val_loss: 0.6199\n",
      "Epoch 2/3\n",
      "\u001b[1m3824/3824\u001b[0m \u001b[32m━━━━━━━━━━━━━━━━━━━━\u001b[0m\u001b[37m\u001b[0m \u001b[1m116s\u001b[0m 30ms/step - accuracy: 0.9008 - loss: 0.2429 - val_accuracy: 0.7602 - val_loss: 0.6545\n",
      "Epoch 3/3\n",
      "\u001b[1m3824/3824\u001b[0m \u001b[32m━━━━━━━━━━━━━━━━━━━━\u001b[0m\u001b[37m\u001b[0m \u001b[1m112s\u001b[0m 29ms/step - accuracy: 0.9106 - loss: 0.2190 - val_accuracy: 0.7682 - val_loss: 0.6086\n",
      "\u001b[1m500/500\u001b[0m \u001b[32m━━━━━━━━━━━━━━━━━━━━\u001b[0m\u001b[37m\u001b[0m \u001b[1m1s\u001b[0m 2ms/step - accuracy: 0.7683 - loss: 0.6041\n",
      "end of model with vector len 85\n",
      "Epoch 1/3\n",
      "\u001b[1m3824/3824\u001b[0m \u001b[32m━━━━━━━━━━━━━━━━━━━━\u001b[0m\u001b[37m\u001b[0m \u001b[1m115s\u001b[0m 30ms/step - accuracy: 0.8534 - loss: 0.3478 - val_accuracy: 0.7734 - val_loss: 0.4888\n",
      "Epoch 2/3\n",
      "\u001b[1m3824/3824\u001b[0m \u001b[32m━━━━━━━━━━━━━━━━━━━━\u001b[0m\u001b[37m\u001b[0m \u001b[1m113s\u001b[0m 29ms/step - accuracy: 0.8706 - loss: 0.3026 - val_accuracy: 0.7674 - val_loss: 0.6198\n",
      "Epoch 3/3\n",
      "\u001b[1m3824/3824\u001b[0m \u001b[32m━━━━━━━━━━━━━━━━━━━━\u001b[0m\u001b[37m\u001b[0m \u001b[1m107s\u001b[0m 28ms/step - accuracy: 0.8964 - loss: 0.2496 - val_accuracy: 0.7622 - val_loss: 0.7170\n",
      "\u001b[1m500/500\u001b[0m \u001b[32m━━━━━━━━━━━━━━━━━━━━\u001b[0m\u001b[37m\u001b[0m \u001b[1m1s\u001b[0m 2ms/step - accuracy: 0.7623 - loss: 0.7083\n",
      "end of model with vector len 95\n"
     ]
    }
   ],
   "source": [
    "\n",
    "trainaccuracies=[]\n",
    "trainlosses=[]\n",
    "valaccuracie=[]\n",
    "vallosses=[]\n",
    "models = []\n",
    "vetortuype=[]\n",
    "test_accuracies=[]\n",
    "\n",
    "#we are testing for different models depending on the length we allow the vectors to have (5 tokens to 95)\n",
    "#Tweets have a maximum of 280 characters. This translates into far less than 100 tokens per tweet.\n",
    "#The loop vectorises the tweets according a certain len (eg if tweet has 10 words and len is 5 it will look at the first  5 only) and the fits and tests the model according that\n",
    "#The goal of the looop is to obtain a set of models so that we can choose the best performer that will become our champion ML/AI solution\n",
    "\n",
    "trainaccuracies=[]\n",
    "trainlosses=[]\n",
    "valaccuracie=[]\n",
    "vallosses=[]\n",
    "models = []\n",
    "vetortuype=[]\n",
    "test_accuracies=[]\n",
    "\n",
    "#This are empty lists where the different models' vectorisation adaptions, losses and accuracies will be stored. \n",
    "\n",
    "for i in range(5,105,10):    \n",
    "    tf.random.set_seed(10)\n",
    "    \n",
    "    #Vectorising inputs\n",
    "    text_vec_layer = TextVectorization(\n",
    "    max_tokens=max_tokens,\n",
    "    output_mode='int',\n",
    "    output_sequence_length=i,# set to 280 since this is the max lenght of tweet\n",
    "    standardize=custom_standardization)\n",
    "    text_vec_layer.adapt(train_data[\"inputs\"])\n",
    "    vetortuype.append(text_vec_layer) #Storing the vectorisation format in a list so this can be used again\n",
    "    inuts_v = text_vec_layer(train_data[\"inputs\"])\n",
    "    test_v = text_vec_layer(test_data[\"inputs\"])\n",
    "    \n",
    "    #Joining the outputs with the inputs\n",
    "    dataset_train = tf.data.Dataset.from_tensor_slices((inuts_v, outputs_tensor)).batch(batches)\n",
    "    dataset_test = tf.data.Dataset.from_tensor_slices((test_v, test_outputs_tensor)).batch(batches)\n",
    "\n",
    "    #Separating trainig and validation\n",
    "    dataset_size = len(inuts_v) //batches\n",
    "    train_ratio = 0.85\n",
    "    val_ratio = 0.15\n",
    "    # Calculate the number of batches for each set\n",
    "    train_size = int(dataset_size * train_ratio)\n",
    "    val_size = int(dataset_size * val_ratio)\n",
    "    # Use `take` and `skip` to split the dataset\n",
    "    train_dataset = dataset_train.take(train_size)\n",
    "    val_dataset = dataset_train.skip(train_size).take(val_size)\n",
    "    \n",
    "    #compiling model\n",
    "    model.compile(loss=loss, optimizer=optimizer, metrics=[\"accuracy\"])\n",
    "    \n",
    "    #Fitting model and storing the resuls of the different epochs validation and training accuracies and losses\n",
    "    history=model.fit(train_dataset, epochs=epochs,validation_data=val_dataset)\n",
    "    history_dict = pd.DataFrame(history.history)\n",
    "    trainaccuracies.append(history_dict[\"accuracy\"])\n",
    "    valaccuracie.append(history_dict[\"val_accuracy\"])\n",
    "    trainlosses.append(history_dict[\"loss\"])\n",
    "    vallosses.append(history_dict[\"val_loss\"])\n",
    "    \n",
    "    #Testing the model on the test dataset and storing the results for the accuracy and the loss in a list\n",
    "    test_loss, test_accuracy = model.evaluate(dataset_test)\n",
    "    test_accuracies.append(test_accuracy)\n",
    "    \n",
    "    #Saving the model \n",
    "    models.append(model)\n",
    "    print(f\"end of model with vector len {str(i)}\")"
   ]
  },
  {
   "cell_type": "markdown",
   "id": "b18d499b",
   "metadata": {},
   "source": [
    "$$\n",
    "\\small\\text{- Model Comparison -}\n",
    "$$"
   ]
  },
  {
   "cell_type": "code",
   "execution_count": 13,
   "id": "5b6619cd",
   "metadata": {},
   "outputs": [],
   "source": [
    "##It is the final epoch that concern us. In this piece of code we are selecting that for accuracies and losses\n",
    "Accuracies_train= [i[len(i)-1] for i in trainaccuracies]\n",
    "Accuracies_val= [i[len(i)-1] for i in valaccuracie]\n",
    "Loss_train= [i[len(i)-1] for i in trainlosses]\n",
    "Loss_val= [i[len(i)-1] for i in vallosses]\n",
    "\n",
    "Accuracies=pd.DataFrame({\"Test\":Accuracies_train,\"valuation\":Accuracies_val}, index=range(5,105,10))\n",
    "Losses=pd.DataFrame({\"Test\":Loss_train,\"valuation\":Loss_val}, index=range(5,105,10))"
   ]
  },
  {
   "cell_type": "code",
   "execution_count": 14,
   "id": "a37b804e",
   "metadata": {
    "scrolled": true
   },
   "outputs": [
    {
     "data": {
      "text/plain": [
       "<Axes: title={'center': 'Accuracies'}, xlabel='Vector_Size', ylabel='Accuracy'>"
      ]
     },
     "execution_count": 14,
     "metadata": {},
     "output_type": "execute_result"
    },
    {
     "data": {
      "image/png": "[encoded data removed]",
      "text/plain": [
       "<Figure size 1000x300 with 1 Axes>"
      ]
     },
     "metadata": {},
     "output_type": "display_data"
    }
   ],
   "source": [
    "##Plotting accuracies of the various models \n",
    "Accuracies.plot(grid=True, figsize=(10,3), xlabel=\"Vector_Size\", ylabel=\"Accuracy\", style=[\"r-.\",\"b*-\"], title=\"Accuracies\")"
   ]
  },
  {
   "cell_type": "code",
   "execution_count": 16,
   "id": "4ffbd550",
   "metadata": {},
   "outputs": [
    {
     "name": "stdout",
     "output_type": "stream",
     "text": [
      "According to the previous formula, the best model is the one that is vectorising with vectors of len 75\n"
     ]
    }
   ],
   "source": [
    "#Selecting the best model\n",
    "#The accuracies are too similar. To get the best model, the set of accuracies are normalied. This provides a clearer comparison.\n",
    "#Post normalising them, a weighed averaged of validation and training accuracy is used to select the best model.\n",
    "#For this, more weight has been put on the validation accuracy (75%) than in the training one (25%).\n",
    "# The code automatically retrieves the best model ID id_best_len\n",
    "\n",
    "Accuracies_val_norm=[(i-min(Accuracies_val))/(max(Accuracies_val)-min(Accuracies_val)) for i in Accuracies_val]\n",
    "\n",
    "Accuracies_train_norm=[(i-min(Accuracies_train))/(max(Accuracies_train)-min(Accuracies_train)) for i in Accuracies_train]\n",
    "\n",
    "Average_Normalised=[(Accuracies_val_norm[i])*0.75+(Accuracies_train_norm[i])*0.25 for i in range(0,len(Accuracies_train))]\n",
    "\n",
    "id_best_len=Average_Normalised.index(max(Average_Normalised))\n",
    "bestlenvec=pd.DataFrame(Average_Normalised, index=range(5,105,10)).iloc[:, 0].idxmax()\n",
    "print(f\"According to the previous formula, the best model is the one that is vectorising with vectors of len {bestlenvec}\")\n",
    "\n"
   ]
  },
  {
   "cell_type": "code",
   "execution_count": 17,
   "id": "bf4db535",
   "metadata": {},
   "outputs": [
    {
     "data": {
      "text/plain": [
       "<Axes: title={'center': 'Normalised Accuracies'}, xlabel='Vector_Size', ylabel='Accuracy'>"
      ]
     },
     "execution_count": 17,
     "metadata": {},
     "output_type": "execute_result"
    },
    {
     "data": {
      "image/png": "[encoded data removed]",
      "text/plain": [
       "<Figure size 1000x300 with 1 Axes>"
      ]
     },
     "metadata": {},
     "output_type": "display_data"
    }
   ],
   "source": [
    "#Plotting normalised accuracies for easier visual inspection \n",
    "Accuracies_norm=pd.DataFrame({\"Test\":Accuracies_train_norm,\"valuation\":Accuracies_val_norm}, index=range(5,105,10))\n",
    "Accuracies_norm.plot(grid=True, figsize=(10,3), xlabel=\"Vector_Size\", ylabel=\"Accuracy\", style=[\"r-.\",\"b*-\"], title=\"Normalised Accuracies\")"
   ]
  },
  {
   "cell_type": "code",
   "execution_count": 18,
   "id": "723c3f33",
   "metadata": {},
   "outputs": [],
   "source": [
    "#Saving the champion\n",
    "models[id_best_len].save(\"champion_twitter_sentiment.keras\")"
   ]
  },
  {
   "cell_type": "markdown",
   "id": "27653149",
   "metadata": {},
   "source": [
    "\n",
    "$$\n",
    "\\textbf{Evaluation:}\n",
    "$$\n"
   ]
  },
  {
   "cell_type": "markdown",
   "id": "6b94ef35",
   "metadata": {},
   "source": [
    "$$\n",
    "\\small{\\text{- Testing the Champion Model -}}\n",
    "$$"
   ]
  },
  {
   "cell_type": "code",
   "execution_count": 19,
   "id": "e27c9f4c",
   "metadata": {},
   "outputs": [
    {
     "name": "stdout",
     "output_type": "stream",
     "text": [
      "\u001b[1m1563/1563\u001b[0m \u001b[32m━━━━━━━━━━━━━━━━━━━━\u001b[0m\u001b[37m\u001b[0m \u001b[1m2s\u001b[0m 1ms/step\n",
      "Accuracy: 0.7729436755180359\n",
      "Precision: 0.7779291553133515\n",
      "Recall: 0.7081533045287246\n",
      "F1 Score: 0.7414031413612566\n"
     ]
    }
   ],
   "source": [
    "#Metrics for champion model\n",
    "from sklearn.metrics import precision_score, recall_score, f1_score\n",
    "\n",
    "# Get the predicted labels\n",
    "y_pred_prob = models[id_best_len].predict(vetortuype[id_best_len](test_data[\"inputs\"]))\n",
    "\n",
    "# Convert probabilities to binary labels (for binary classification)\n",
    "# If you have a multi-class classification, use `argmax()` instead.\n",
    "y_pred = [1 if i >= 0.5 else 0 for i in y_pred_prob]\n",
    "\n",
    "\n",
    "# Calculate precision, recall, and f1-score\n",
    "precision = sk.metrics.precision_score(test_data[\"outputs\"], y_pred)\n",
    "recall = sk.metrics.recall_score(test_data[\"outputs\"], y_pred)\n",
    "f1 = sk.metrics.f1_score(test_data[\"outputs\"], y_pred)\n",
    "\n",
    "print(f\"Accuracy: {test_accuracies[id_best_len]}\")\n",
    "print(f\"Precision: {precision}\")\n",
    "print(f\"Recall: {recall}\")\n",
    "print(f\"F1 Score: {f1}\")"
   ]
  },
  {
   "cell_type": "markdown",
   "id": "f81198e1",
   "metadata": {},
   "source": [
    "$$\n",
    "\\small{\\text{- Defining and testing a function that will tell us if a tweet has a positive sentiment -}}\n",
    "$$"
   ]
  },
  {
   "cell_type": "code",
   "execution_count": 20,
   "id": "b6c0b130",
   "metadata": {
    "scrolled": true
   },
   "outputs": [],
   "source": [
    "#Defining a function that will give us if a tweet has positive or negative sentiment and the probability of that\n",
    "def positive_negative_tweet(tweet): \n",
    "    input_x = vetortuype[id_best_len]([tweet])\n",
    "    Y= (models[id_best_len].predict(input_x))\n",
    "    if Y>=0.5:\n",
    "        if Y>0.8:\n",
    "            return print(f\"Positive sentiment with prob of: {float(Y)}\")\n",
    "        else: \n",
    "            return print(f\"Positive sentiment with a low prob of: {float(Y)}\")\n",
    "    else:\n",
    "        if Y<0.2:\n",
    "            return print(f\"Negative sentiment with prob of: {1-float(Y)}\")\n",
    "        else:\n",
    "            return print(f\"Negative sentiment with low prob of: {1-float(Y)}\")\n",
    "\n"
   ]
  },
  {
   "cell_type": "code",
   "execution_count": 38,
   "id": "a2a16dc0",
   "metadata": {
    "scrolled": true
   },
   "outputs": [
    {
     "name": "stdout",
     "output_type": "stream",
     "text": [
      "\u001b[1m1/1\u001b[0m \u001b[32m━━━━━━━━━━━━━━━━━━━━\u001b[0m\u001b[37m\u001b[0m \u001b[1m0s\u001b[0m 14ms/step\n",
      "Negative sentiment with low prob of: 0.6993931829929352\n"
     ]
    }
   ],
   "source": [
    "tweet=\"@smartinez again Im watching another boring MCU movie\"\n",
    "positive_negative_tweet(tweet)"
   ]
  },
  {
   "cell_type": "code",
   "execution_count": 35,
   "id": "8d09e9ab",
   "metadata": {},
   "outputs": [
    {
     "name": "stdout",
     "output_type": "stream",
     "text": [
      "\u001b[1m1/1\u001b[0m \u001b[32m━━━━━━━━━━━━━━━━━━━━\u001b[0m\u001b[37m\u001b[0m \u001b[1m0s\u001b[0m 14ms/step\n",
      "Positive sentiment with prob of: 0.9581043124198914\n"
     ]
    }
   ],
   "source": [
    "tweet=\"@smartinez gotta admit, they are nice\"\n",
    "positive_negative_tweet(tweet)"
   ]
  },
  {
   "cell_type": "code",
   "execution_count": 36,
   "id": "e72f74e9",
   "metadata": {},
   "outputs": [
    {
     "name": "stdout",
     "output_type": "stream",
     "text": [
      "\u001b[1m1/1\u001b[0m \u001b[32m━━━━━━━━━━━━━━━━━━━━\u001b[0m\u001b[37m\u001b[0m \u001b[1m0s\u001b[0m 14ms/step\n",
      "Negative sentiment with low prob of: 0.6430310308933258\n"
     ]
    }
   ],
   "source": [
    "tweet=\"@smartinez Gotta admit they are lame\"\n",
    "positive_negative_tweet(tweet)"
   ]
  },
  {
   "cell_type": "code",
   "execution_count": 42,
   "id": "1db08399",
   "metadata": {
    "scrolled": true
   },
   "outputs": [
    {
     "name": "stdout",
     "output_type": "stream",
     "text": [
      "\u001b[1m1/1\u001b[0m \u001b[32m━━━━━━━━━━━━━━━━━━━━\u001b[0m\u001b[37m\u001b[0m \u001b[1m0s\u001b[0m 14ms/step\n",
      "Negative sentiment with low prob of: 0.7754504084587097\n"
     ]
    }
   ],
   "source": [
    "tweet=\"@smartinez I dont love them\"\n",
    "positive_negative_tweet(tweet)"
   ]
  },
  {
   "cell_type": "code",
   "execution_count": 41,
   "id": "c51b3b00",
   "metadata": {},
   "outputs": [
    {
     "name": "stdout",
     "output_type": "stream",
     "text": [
      "\u001b[1m1/1\u001b[0m \u001b[32m━━━━━━━━━━━━━━━━━━━━\u001b[0m\u001b[37m\u001b[0m \u001b[1m0s\u001b[0m 12ms/step\n",
      "Positive sentiment with prob of: 0.9124240875244141\n"
     ]
    }
   ],
   "source": [
    "tweet=\"@smartinez I love them\"\n",
    "positive_negative_tweet(tweet)"
   ]
  },
  {
   "cell_type": "markdown",
   "id": "0926862f",
   "metadata": {},
   "source": [
    "\n",
    "$$\n",
    "\\textbf{Conclusions and Improvements:}\n",
    "$$\n"
   ]
  },
  {
   "cell_type": "markdown",
   "id": "98a0abd7",
   "metadata": {},
   "source": [
    "$\n",
    "\\small\\text{The end result is function that defines if a tweet has a positive or negative sentiment and the probability of that.}\n",
    "$\n",
    "$\n",
    "\\small\\text{Models with accuracy of around 50% are noisy models, with no power.The model has a test accuracy of 76% which means it has some predictive power.}\n",
    "$\n",
    "$\n",
    "\\small\\text{However someone using the model should be aware that there is 25% of getting the opposite outcome.}\n",
    "$\n",
    "$\n",
    "\\small\\text{That is why is important to look at the model output in float terms, it gives an indicative of the prob. of that tweet being positive or negative.}\n",
    "$\n",
    "$\n",
    "\\small\\text{Another point to comment is the accuracy of the dataset. One of the underlying assumption is that the data is correctly split into positive and negative tweet.}\n",
    "$\n",
    "$\n",
    "\\small\\text{A mistake in this classification would introduce noise in the model.}\n",
    "$\n",
    "$\n",
    "\\small\\text{Improvement in the model could be achieved by pretrained emmbedders (eg: BERT or from word2vec) that consider a greater set of vocabulary and their relationship.}\n",
    "$\n",
    "$\n",
    "\\small\\text{Longer set of data would have also been helpful, but that would have slowed the training time.}\n",
    "$\n",
    "$\n",
    "\\small\\text{Greater GPU and RAM would have allowed me to use GRU layers with sequentiality. However, upon trying those, the computer slowed or crashed.}\n",
    "$\n",
    "$\n",
    "\\small\\text{But perhaps the greatest flaw is the model is that it considers that tweets can be either positive or negative; when in reality there are tweets that do not have any sentiment at all.}\n",
    "$\n",
    "\n"
   ]
  }
 ],
 "metadata": {
  "kernelspec": {
   "display_name": "Python 3 (ipykernel)",
   "language": "python",
   "name": "python3"
  },
  "language_info": {
   "codemirror_mode": {
    "name": "ipython",
    "version": 3
   },
   "file_extension": ".py",
   "mimetype": "text/x-python",
   "name": "python",
   "nbconvert_exporter": "python",
   "pygments_lexer": "ipython3",
   "version": "3.11.5"
  }
 },
 "nbformat": 4,
 "nbformat_minor": 5
}
